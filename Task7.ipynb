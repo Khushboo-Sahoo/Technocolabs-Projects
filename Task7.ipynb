{
 "cells": [
  {
   "cell_type": "code",
   "execution_count": 2,
   "metadata": {},
   "outputs": [],
   "source": [
    "import numpy as np \n",
    "import pandas as pd \n",
    "import matplotlib.pyplot as plt \n",
    "\n",
    "%matplotlib inline\n",
    "import matplotlib as mpl \n",
    "mpl.rcParams['figure.dpi'] = 100"
   ]
  },
  {
   "cell_type": "code",
   "execution_count": 4,
   "metadata": {},
   "outputs": [],
   "source": [
    "df_orig = pd.read_excel('C:/Users/Khush/Desktop/Datesets/default_of_credit_card_clients (1).xls')"
   ]
  },
  {
   "cell_type": "code",
   "execution_count": 5,
   "metadata": {},
   "outputs": [],
   "source": [
    "df_zero_mask = df_orig == 0"
   ]
  },
  {
   "cell_type": "code",
   "execution_count": 6,
   "metadata": {},
   "outputs": [],
   "source": [
    "feature_zero_mask = df_zero_mask.iloc[:,1:].all(axis=1)"
   ]
  },
  {
   "cell_type": "code",
   "execution_count": 7,
   "metadata": {},
   "outputs": [
    {
     "data": {
      "text/plain": [
       "315"
      ]
     },
     "execution_count": 7,
     "metadata": {},
     "output_type": "execute_result"
    }
   ],
   "source": [
    "sum(feature_zero_mask)"
   ]
  },
  {
   "cell_type": "code",
   "execution_count": 8,
   "metadata": {},
   "outputs": [],
   "source": [
    "df_clean = df_orig.loc[~feature_zero_mask,:].copy()"
   ]
  },
  {
   "cell_type": "code",
   "execution_count": 9,
   "metadata": {},
   "outputs": [
    {
     "data": {
      "text/plain": [
       "(29685, 25)"
      ]
     },
     "execution_count": 9,
     "metadata": {},
     "output_type": "execute_result"
    }
   ],
   "source": [
    "df_clean.shape"
   ]
  },
  {
   "cell_type": "code",
   "execution_count": 10,
   "metadata": {},
   "outputs": [
    {
     "data": {
      "text/plain": [
       "29685"
      ]
     },
     "execution_count": 10,
     "metadata": {},
     "output_type": "execute_result"
    }
   ],
   "source": [
    "\n",
    "df_clean['ID'].nunique()"
   ]
  },
  {
   "cell_type": "code",
   "execution_count": 11,
   "metadata": {},
   "outputs": [
    {
     "data": {
      "text/plain": [
       "2    13884\n",
       "1    10474\n",
       "3     4867\n",
       "5      275\n",
       "4      122\n",
       "6       49\n",
       "0       14\n",
       "Name: EDUCATION, dtype: int64"
      ]
     },
     "execution_count": 11,
     "metadata": {},
     "output_type": "execute_result"
    }
   ],
   "source": [
    "df_clean['EDUCATION'].value_counts()"
   ]
  },
  {
   "cell_type": "code",
   "execution_count": 12,
   "metadata": {},
   "outputs": [],
   "source": [
    "df_clean['EDUCATION'].replace(to_replace=[0, 5, 6], value=4, inplace=True)"
   ]
  },
  {
   "cell_type": "code",
   "execution_count": 13,
   "metadata": {},
   "outputs": [
    {
     "data": {
      "text/plain": [
       "2    13884\n",
       "1    10474\n",
       "3     4867\n",
       "4      460\n",
       "Name: EDUCATION, dtype: int64"
      ]
     },
     "execution_count": 13,
     "metadata": {},
     "output_type": "execute_result"
    }
   ],
   "source": [
    "\n",
    "df_clean['EDUCATION'].value_counts()"
   ]
  },
  {
   "cell_type": "code",
   "execution_count": 14,
   "metadata": {},
   "outputs": [
    {
     "data": {
      "text/plain": [
       "2    15810\n",
       "1    13503\n",
       "3      318\n",
       "0       54\n",
       "Name: MARRIAGE, dtype: int64"
      ]
     },
     "execution_count": 14,
     "metadata": {},
     "output_type": "execute_result"
    }
   ],
   "source": [
    "\n",
    "df_clean['MARRIAGE'].value_counts()"
   ]
  },
  {
   "cell_type": "code",
   "execution_count": 15,
   "metadata": {},
   "outputs": [],
   "source": [
    "df_clean['MARRIAGE'].replace(to_replace=0, value=3, inplace=True)"
   ]
  },
  {
   "cell_type": "code",
   "execution_count": 16,
   "metadata": {},
   "outputs": [
    {
     "data": {
      "text/plain": [
       "2    15810\n",
       "1    13503\n",
       "3      372\n",
       "Name: MARRIAGE, dtype: int64"
      ]
     },
     "execution_count": 16,
     "metadata": {},
     "output_type": "execute_result"
    }
   ],
   "source": [
    "df_clean['MARRIAGE'].value_counts()"
   ]
  },
  {
   "cell_type": "code",
   "execution_count": null,
   "metadata": {},
   "outputs": [],
   "source": []
  },
  {
   "cell_type": "code",
   "execution_count": 17,
   "metadata": {},
   "outputs": [
    {
     "data": {
      "text/plain": [
       "0                13087\n",
       "-1                5047\n",
       "1                 3261\n",
       "Not available     3021\n",
       "-2                2476\n",
       "2                 2378\n",
       "3                  292\n",
       "4                   63\n",
       "5                   23\n",
       "8                   17\n",
       "6                   11\n",
       "7                    9\n",
       "Name: PAY_1, dtype: int64"
      ]
     },
     "execution_count": 17,
     "metadata": {},
     "output_type": "execute_result"
    }
   ],
   "source": [
    "\n",
    "df_clean['PAY_1'].value_counts()"
   ]
  },
  {
   "cell_type": "code",
   "execution_count": 18,
   "metadata": {},
   "outputs": [],
   "source": [
    "missing_pay_1_mask = df_clean['PAY_1'] == 'Not available'"
   ]
  },
  {
   "cell_type": "code",
   "execution_count": 19,
   "metadata": {},
   "outputs": [
    {
     "data": {
      "text/plain": [
       "3021"
      ]
     },
     "execution_count": 19,
     "metadata": {},
     "output_type": "execute_result"
    }
   ],
   "source": [
    "sum(missing_pay_1_mask)"
   ]
  },
  {
   "cell_type": "code",
   "execution_count": 20,
   "metadata": {},
   "outputs": [],
   "source": [
    "df_missing_pay_1 = df_clean.loc[missing_pay_1_mask,:].copy()"
   ]
  },
  {
   "cell_type": "code",
   "execution_count": 21,
   "metadata": {},
   "outputs": [
    {
     "data": {
      "text/plain": [
       "(3021, 25)"
      ]
     },
     "execution_count": 21,
     "metadata": {},
     "output_type": "execute_result"
    }
   ],
   "source": [
    "\n",
    "df_missing_pay_1.shape"
   ]
  },
  {
   "cell_type": "code",
   "execution_count": 22,
   "metadata": {},
   "outputs": [
    {
     "data": {
      "text/plain": [
       "17    Not available\n",
       "28    Not available\n",
       "29    Not available\n",
       "Name: PAY_1, dtype: object"
      ]
     },
     "execution_count": 22,
     "metadata": {},
     "output_type": "execute_result"
    }
   ],
   "source": [
    "df_missing_pay_1['PAY_1'].head(3)"
   ]
  },
  {
   "cell_type": "code",
   "execution_count": 23,
   "metadata": {},
   "outputs": [
    {
     "data": {
      "text/plain": [
       "Not available    3021\n",
       "Name: PAY_1, dtype: int64"
      ]
     },
     "execution_count": 23,
     "metadata": {},
     "output_type": "execute_result"
    }
   ],
   "source": [
    "df_missing_pay_1['PAY_1'].value_counts()"
   ]
  },
  {
   "cell_type": "code",
   "execution_count": 24,
   "metadata": {},
   "outputs": [
    {
     "data": {
      "text/plain": [
       "Index(['ID', 'LIMIT_BAL', 'SEX', 'EDUCATION', 'MARRIAGE', 'AGE', 'PAY_1',\n",
       "       'PAY_2', 'PAY_3', 'PAY_4', 'PAY_5', 'PAY_6', 'BILL_AMT1', 'BILL_AMT2',\n",
       "       'BILL_AMT3', 'BILL_AMT4', 'BILL_AMT5', 'BILL_AMT6', 'PAY_AMT1',\n",
       "       'PAY_AMT2', 'PAY_AMT3', 'PAY_AMT4', 'PAY_AMT5', 'PAY_AMT6',\n",
       "       'default payment next month'],\n",
       "      dtype='object')"
      ]
     },
     "execution_count": 24,
     "metadata": {},
     "output_type": "execute_result"
    }
   ],
   "source": [
    "df_missing_pay_1.columns"
   ]
  },
  {
   "cell_type": "code",
   "execution_count": 28,
   "metadata": {},
   "outputs": [],
   "source": [
    "df = pd.read_csv('C:/Users/Khush/Desktop/Datesets/cleaned_data.csv')"
   ]
  },
  {
   "cell_type": "code",
   "execution_count": 29,
   "metadata": {},
   "outputs": [
    {
     "data": {
      "text/plain": [
       "Index(['ID', 'LIMIT_BAL', 'SEX', 'EDUCATION', 'MARRIAGE', 'AGE', 'PAY_1',\n",
       "       'PAY_2', 'PAY_3', 'PAY_4', 'PAY_5', 'PAY_6', 'BILL_AMT1', 'BILL_AMT2',\n",
       "       'BILL_AMT3', 'BILL_AMT4', 'BILL_AMT5', 'BILL_AMT6', 'PAY_AMT1',\n",
       "       'PAY_AMT2', 'PAY_AMT3', 'PAY_AMT4', 'PAY_AMT5', 'PAY_AMT6',\n",
       "       'default payment next month', 'EDUCATION_CAT', 'graduate school',\n",
       "       'high school', 'others', 'university'],\n",
       "      dtype='object')"
      ]
     },
     "execution_count": 29,
     "metadata": {},
     "output_type": "execute_result"
    }
   ],
   "source": [
    "\n",
    "df.columns"
   ]
  },
  {
   "cell_type": "code",
   "execution_count": 30,
   "metadata": {},
   "outputs": [],
   "source": [
    "features_response = df.columns.tolist()"
   ]
  },
  {
   "cell_type": "code",
   "execution_count": 31,
   "metadata": {},
   "outputs": [],
   "source": [
    "items_to_remove = ['ID', 'SEX', 'PAY_2', 'PAY_3', 'PAY_4', 'PAY_5', 'PAY_6',\n",
    "                   'EDUCATION_CAT', 'graduate school', 'high school', 'none',\n",
    "                   'others', 'university']"
   ]
  },
  {
   "cell_type": "code",
   "execution_count": 32,
   "metadata": {},
   "outputs": [
    {
     "data": {
      "text/plain": [
       "['LIMIT_BAL',\n",
       " 'EDUCATION',\n",
       " 'MARRIAGE',\n",
       " 'AGE',\n",
       " 'PAY_1',\n",
       " 'BILL_AMT1',\n",
       " 'BILL_AMT2',\n",
       " 'BILL_AMT3',\n",
       " 'BILL_AMT4',\n",
       " 'BILL_AMT5',\n",
       " 'BILL_AMT6',\n",
       " 'PAY_AMT1',\n",
       " 'PAY_AMT2',\n",
       " 'PAY_AMT3',\n",
       " 'PAY_AMT4',\n",
       " 'PAY_AMT5',\n",
       " 'PAY_AMT6',\n",
       " 'default payment next month']"
      ]
     },
     "execution_count": 32,
     "metadata": {},
     "output_type": "execute_result"
    }
   ],
   "source": [
    "features_response = [item for item in features_response if item not in items_to_remove]\n",
    "features_response"
   ]
  },
  {
   "cell_type": "code",
   "execution_count": 33,
   "metadata": {},
   "outputs": [],
   "source": [
    "from sklearn.model_selection import train_test_split"
   ]
  },
  {
   "cell_type": "code",
   "execution_count": 34,
   "metadata": {},
   "outputs": [],
   "source": [
    "\n",
    "X_train, X_test, y_train, y_test = \\\n",
    "train_test_split(df[features_response[:-1]].values, df['default payment next month'].values,\n",
    "test_size=0.2, random_state=24)\n"
   ]
  },
  {
   "cell_type": "code",
   "execution_count": 35,
   "metadata": {},
   "outputs": [
    {
     "name": "stdout",
     "output_type": "stream",
     "text": [
      "(21331, 17)\n",
      "(5333, 17)\n",
      "(21331,)\n",
      "(5333,)\n"
     ]
    }
   ],
   "source": [
    "\n",
    "print(X_train.shape)\n",
    "print(X_test.shape)\n",
    "print(y_train.shape)\n",
    "print(y_test.shape)"
   ]
  },
  {
   "cell_type": "code",
   "execution_count": 36,
   "metadata": {},
   "outputs": [
    {
     "data": {
      "text/plain": [
       "(3021, 25)"
      ]
     },
     "execution_count": 36,
     "metadata": {},
     "output_type": "execute_result"
    }
   ],
   "source": [
    "\n",
    "df_missing_pay_1.shape"
   ]
  },
  {
   "cell_type": "code",
   "execution_count": 37,
   "metadata": {},
   "outputs": [
    {
     "data": {
      "text/plain": [
       "'PAY_1'"
      ]
     },
     "execution_count": 37,
     "metadata": {},
     "output_type": "execute_result"
    }
   ],
   "source": [
    "features_response[4]"
   ]
  },
  {
   "cell_type": "code",
   "execution_count": 38,
   "metadata": {},
   "outputs": [
    {
     "data": {
      "text/plain": [
       "0.0"
      ]
     },
     "execution_count": 38,
     "metadata": {},
     "output_type": "execute_result"
    }
   ],
   "source": [
    "\n",
    "np.median(X_train[:,4])"
   ]
  },
  {
   "cell_type": "code",
   "execution_count": 39,
   "metadata": {},
   "outputs": [],
   "source": [
    "np.random.seed(seed=1)\n",
    "fill_values = [0, np.random.choice(X_train[:,4], size=(3021,), replace=True)]"
   ]
  },
  {
   "cell_type": "code",
   "execution_count": 40,
   "metadata": {},
   "outputs": [],
   "source": [
    "fill_strategy = ['mode', 'random']"
   ]
  },
  {
   "cell_type": "code",
   "execution_count": 41,
   "metadata": {},
   "outputs": [
    {
     "data": {
      "text/plain": [
       "array([ 0,  0,  0, ...,  2,  0, -2], dtype=int64)"
      ]
     },
     "execution_count": 41,
     "metadata": {},
     "output_type": "execute_result"
    }
   ],
   "source": [
    "fill_values[-1]"
   ]
  },
  {
   "cell_type": "code",
   "execution_count": 42,
   "metadata": {},
   "outputs": [
    {
     "data": {
      "image/png": "[encoded data removed]",
      "text/plain": [
       "<Figure size 800x300 with 2 Axes>"
      ]
     },
     "metadata": {
      "needs_background": "light"
     },
     "output_type": "display_data"
    }
   ],
   "source": [
    "fig, axs = plt.subplots(1,2, figsize=(8,3))\n",
    "bin_edges = np.arange(-2,9)\n",
    "axs[0].hist(X_train[:,4], bins=bin_edges, align='left')\n",
    "axs[0].set_xticks(bin_edges)\n",
    "axs[0].set_title('Non-missing values of PAY_1')\n",
    "axs[1].hist(fill_values[-1], bins=bin_edges, align='left')\n",
    "axs[1].set_xticks(bin_edges)\n",
    "axs[1].set_title('Random selection for imputation')\n",
    "plt.tight_layout()"
   ]
  },
  {
   "cell_type": "code",
   "execution_count": 43,
   "metadata": {},
   "outputs": [],
   "source": [
    "from sklearn.model_selection import KFold"
   ]
  },
  {
   "cell_type": "code",
   "execution_count": 44,
   "metadata": {},
   "outputs": [],
   "source": [
    "k_folds = KFold(n_splits=4, shuffle=True, random_state=1)"
   ]
  },
  {
   "cell_type": "code",
   "execution_count": 45,
   "metadata": {},
   "outputs": [],
   "source": [
    "from sklearn.model_selection import cross_validate"
   ]
  },
  {
   "cell_type": "code",
   "execution_count": 46,
   "metadata": {},
   "outputs": [],
   "source": [
    "from sklearn.ensemble import RandomForestClassifier"
   ]
  },
  {
   "cell_type": "code",
   "execution_count": 47,
   "metadata": {},
   "outputs": [],
   "source": [
    "rf = RandomForestClassifier\\\n",
    "(n_estimators=200, criterion='gini', max_depth=9,\n",
    "min_samples_split=2, min_samples_leaf=1, min_weight_fraction_leaf=0.0,\n",
    "max_features='auto', max_leaf_nodes=None, min_impurity_decrease=0.0,\n",
    "min_impurity_split=None, bootstrap=True, oob_score=False, n_jobs=None,\n",
    "random_state=4, verbose=1, warm_start=False, class_weight=None)"
   ]
  },
  {
   "cell_type": "code",
   "execution_count": 48,
   "metadata": {},
   "outputs": [
    {
     "name": "stderr",
     "output_type": "stream",
     "text": [
      "[Parallel(n_jobs=-1)]: Using backend LokyBackend with 4 concurrent workers.\n",
      "[Parallel(n_jobs=-1)]: Done   2 out of   4 | elapsed:   28.7s remaining:   28.7s\n",
      "[Parallel(n_jobs=-1)]: Done   4 out of   4 | elapsed:   29.0s finished\n",
      "[Parallel(n_jobs=-1)]: Using backend LokyBackend with 4 concurrent workers.\n"
     ]
    },
    {
     "name": "stdout",
     "output_type": "stream",
     "text": [
      "mode imputation: mean testing score 0.772866246168149, std 0.0031479941297533737\n"
     ]
    },
    {
     "name": "stderr",
     "output_type": "stream",
     "text": [
      "[Parallel(n_jobs=-1)]: Done   2 out of   4 | elapsed:   24.0s remaining:   24.0s\n"
     ]
    },
    {
     "name": "stdout",
     "output_type": "stream",
     "text": [
      "random imputation: mean testing score 0.7692540439833129, std 0.003660875187678248\n"
     ]
    },
    {
     "name": "stderr",
     "output_type": "stream",
     "text": [
      "[Parallel(n_jobs=-1)]: Done   4 out of   4 | elapsed:   24.3s finished\n"
     ]
    }
   ],
   "source": [
    "for counter in range(len(fill_values)):\n",
    "    \n",
    "    df_fill_pay_1_filled = df_missing_pay_1.copy()\n",
    "    df_fill_pay_1_filled['PAY_1'] = fill_values[counter]\n",
    "    \n",
    "    \n",
    "    X_fill_pay_1_train, X_fill_pay_1_test, y_fill_pay_1_train, y_fill_pay_1_test = \\\n",
    "    train_test_split(\n",
    "        df_fill_pay_1_filled[features_response[:-1]].values,\n",
    "        df_fill_pay_1_filled['default payment next month'].values,\n",
    "    test_size=0.2, random_state=24)\n",
    "    \n",
    "    \n",
    "    X_train_all = np.concatenate((X_train, X_fill_pay_1_train), axis=0)\n",
    "    y_train_all = np.concatenate((y_train, y_fill_pay_1_train), axis=0)\n",
    "    \n",
    "    \n",
    "    imputation_compare_cv = cross_validate(rf, X_train_all, y_train_all, scoring='roc_auc',\n",
    "                                       cv=k_folds, n_jobs=-1, verbose=1,\n",
    "                                       return_train_score=True, return_estimator=True,\n",
    "                                       error_score='raise-deprecating')\n",
    "    \n",
    "    test_score = imputation_compare_cv['test_score']\n",
    "    print(fill_strategy[counter] + ' imputation: ' +\n",
    "          'mean testing score ' + str(np.mean(test_score)) +\n",
    "          ', std ' + str(np.std(test_score)))"
   ]
  },
  {
   "cell_type": "code",
   "execution_count": 49,
   "metadata": {},
   "outputs": [],
   "source": [
    "pay_1_df = df.copy()"
   ]
  },
  {
   "cell_type": "code",
   "execution_count": 50,
   "metadata": {},
   "outputs": [],
   "source": [
    "features_for_imputation = pay_1_df.columns.tolist()"
   ]
  },
  {
   "cell_type": "code",
   "execution_count": 51,
   "metadata": {},
   "outputs": [],
   "source": [
    "items_to_remove_2 = ['ID', 'SEX', 'PAY_2', 'PAY_3', 'PAY_4', 'PAY_5', 'PAY_6',\n",
    "                   'EDUCATION_CAT', 'graduate school', 'high school', 'none',\n",
    "                   'others', 'university', 'default payment next month', 'PAY_1']"
   ]
  },
  {
   "cell_type": "code",
   "execution_count": 52,
   "metadata": {},
   "outputs": [
    {
     "data": {
      "text/plain": [
       "['LIMIT_BAL',\n",
       " 'EDUCATION',\n",
       " 'MARRIAGE',\n",
       " 'AGE',\n",
       " 'BILL_AMT1',\n",
       " 'BILL_AMT2',\n",
       " 'BILL_AMT3',\n",
       " 'BILL_AMT4',\n",
       " 'BILL_AMT5',\n",
       " 'BILL_AMT6',\n",
       " 'PAY_AMT1',\n",
       " 'PAY_AMT2',\n",
       " 'PAY_AMT3',\n",
       " 'PAY_AMT4',\n",
       " 'PAY_AMT5',\n",
       " 'PAY_AMT6']"
      ]
     },
     "execution_count": 52,
     "metadata": {},
     "output_type": "execute_result"
    }
   ],
   "source": [
    "features_for_imputation = [item for item in features_for_imputation if item not in items_to_remove_2]\n",
    "features_for_imputation\n"
   ]
  },
  {
   "cell_type": "code",
   "execution_count": 54,
   "metadata": {},
   "outputs": [],
   "source": [
    "X_impute_train, X_impute_test, y_impute_train, y_impute_test = \\\n",
    "train_test_split(\n",
    "    pay_1_df[features_for_imputation].values,\n",
    "    pay_1_df['PAY_1'].values,\n",
    "test_size=0.2, random_state=24)"
   ]
  },
  {
   "cell_type": "code",
   "execution_count": 55,
   "metadata": {},
   "outputs": [],
   "source": [
    "rf_impute_params = {'max_depth':[3, 6, 9, 12],\n",
    "             'n_estimators':[10, 50, 100, 200]}"
   ]
  },
  {
   "cell_type": "code",
   "execution_count": 56,
   "metadata": {},
   "outputs": [],
   "source": [
    "from sklearn.model_selection import GridSearchCV"
   ]
  },
  {
   "cell_type": "code",
   "execution_count": 57,
   "metadata": {},
   "outputs": [],
   "source": [
    "cv_rf_impute = GridSearchCV(rf, param_grid=rf_impute_params, scoring='accuracy',\n",
    "                            n_jobs=-1, iid=False, refit=True,\n",
    "                            cv=4, verbose=2, error_score=np.nan, return_train_score=True)"
   ]
  },
  {
   "cell_type": "code",
   "execution_count": 58,
   "metadata": {},
   "outputs": [
    {
     "name": "stdout",
     "output_type": "stream",
     "text": [
      "Fitting 4 folds for each of 16 candidates, totalling 64 fits\n"
     ]
    },
    {
     "name": "stderr",
     "output_type": "stream",
     "text": [
      "[Parallel(n_jobs=-1)]: Using backend LokyBackend with 4 concurrent workers.\n",
      "[Parallel(n_jobs=-1)]: Done  33 tasks      | elapsed:  1.1min\n",
      "[Parallel(n_jobs=-1)]: Done  64 out of  64 | elapsed:  2.7min finished\n",
      "C:\\Users\\Khush\\anaconda3\\lib\\site-packages\\sklearn\\model_selection\\_search.py:823: FutureWarning: The parameter 'iid' is deprecated in 0.22 and will be removed in 0.24.\n",
      "  \"removed in 0.24.\", FutureWarning\n",
      "[Parallel(n_jobs=1)]: Using backend SequentialBackend with 1 concurrent workers.\n",
      "[Parallel(n_jobs=1)]: Done 200 out of 200 | elapsed:   30.9s finished\n"
     ]
    },
    {
     "data": {
      "text/plain": [
       "GridSearchCV(cv=4, error_score=nan,\n",
       "             estimator=RandomForestClassifier(bootstrap=True, ccp_alpha=0.0,\n",
       "                                              class_weight=None,\n",
       "                                              criterion='gini', max_depth=9,\n",
       "                                              max_features='auto',\n",
       "                                              max_leaf_nodes=None,\n",
       "                                              max_samples=None,\n",
       "                                              min_impurity_decrease=0.0,\n",
       "                                              min_impurity_split=None,\n",
       "                                              min_samples_leaf=1,\n",
       "                                              min_samples_split=2,\n",
       "                                              min_weight_fraction_leaf=0.0,\n",
       "                                              n_estimators=200, n_jobs=None,\n",
       "                                              oob_score=False, random_state=4,\n",
       "                                              verbose=1, warm_start=False),\n",
       "             iid=False, n_jobs=-1,\n",
       "             param_grid={'max_depth': [3, 6, 9, 12],\n",
       "                         'n_estimators': [10, 50, 100, 200]},\n",
       "             pre_dispatch='2*n_jobs', refit=True, return_train_score=True,\n",
       "             scoring='accuracy', verbose=2)"
      ]
     },
     "execution_count": 58,
     "metadata": {},
     "output_type": "execute_result"
    }
   ],
   "source": [
    "cv_rf_impute.fit(X_impute_train, y_impute_train)"
   ]
  },
  {
   "cell_type": "code",
   "execution_count": 59,
   "metadata": {},
   "outputs": [
    {
     "data": {
      "text/html": [
       "<div>\n",
       "<style scoped>\n",
       "    .dataframe tbody tr th:only-of-type {\n",
       "        vertical-align: middle;\n",
       "    }\n",
       "\n",
       "    .dataframe tbody tr th {\n",
       "        vertical-align: top;\n",
       "    }\n",
       "\n",
       "    .dataframe thead th {\n",
       "        text-align: right;\n",
       "    }\n",
       "</style>\n",
       "<table border=\"1\" class=\"dataframe\">\n",
       "  <thead>\n",
       "    <tr style=\"text-align: right;\">\n",
       "      <th></th>\n",
       "      <th>mean_fit_time</th>\n",
       "      <th>std_fit_time</th>\n",
       "      <th>mean_score_time</th>\n",
       "      <th>std_score_time</th>\n",
       "      <th>param_max_depth</th>\n",
       "      <th>param_n_estimators</th>\n",
       "      <th>params</th>\n",
       "      <th>split0_test_score</th>\n",
       "      <th>split1_test_score</th>\n",
       "      <th>split2_test_score</th>\n",
       "      <th>split3_test_score</th>\n",
       "      <th>mean_test_score</th>\n",
       "      <th>std_test_score</th>\n",
       "      <th>rank_test_score</th>\n",
       "      <th>split0_train_score</th>\n",
       "      <th>split1_train_score</th>\n",
       "      <th>split2_train_score</th>\n",
       "      <th>split3_train_score</th>\n",
       "      <th>mean_train_score</th>\n",
       "      <th>std_train_score</th>\n",
       "    </tr>\n",
       "  </thead>\n",
       "  <tbody>\n",
       "    <tr>\n",
       "      <th>0</th>\n",
       "      <td>0.539346</td>\n",
       "      <td>0.023652</td>\n",
       "      <td>0.054688</td>\n",
       "      <td>0.007815</td>\n",
       "      <td>3</td>\n",
       "      <td>10</td>\n",
       "      <td>{'max_depth': 3, 'n_estimators': 10}</td>\n",
       "      <td>0.664729</td>\n",
       "      <td>0.669417</td>\n",
       "      <td>0.671479</td>\n",
       "      <td>0.664291</td>\n",
       "      <td>0.667479</td>\n",
       "      <td>0.003061</td>\n",
       "      <td>15</td>\n",
       "      <td>0.669396</td>\n",
       "      <td>0.670146</td>\n",
       "      <td>0.665146</td>\n",
       "      <td>0.670042</td>\n",
       "      <td>0.668682</td>\n",
       "      <td>0.002062</td>\n",
       "    </tr>\n",
       "    <tr>\n",
       "      <th>1</th>\n",
       "      <td>3.361069</td>\n",
       "      <td>0.073286</td>\n",
       "      <td>0.198978</td>\n",
       "      <td>0.004224</td>\n",
       "      <td>3</td>\n",
       "      <td>50</td>\n",
       "      <td>{'max_depth': 3, 'n_estimators': 50}</td>\n",
       "      <td>0.657979</td>\n",
       "      <td>0.660229</td>\n",
       "      <td>0.660604</td>\n",
       "      <td>0.651350</td>\n",
       "      <td>0.657540</td>\n",
       "      <td>0.003712</td>\n",
       "      <td>16</td>\n",
       "      <td>0.664521</td>\n",
       "      <td>0.657145</td>\n",
       "      <td>0.654082</td>\n",
       "      <td>0.660854</td>\n",
       "      <td>0.659150</td>\n",
       "      <td>0.003920</td>\n",
       "    </tr>\n",
       "    <tr>\n",
       "      <th>2</th>\n",
       "      <td>5.153080</td>\n",
       "      <td>0.063080</td>\n",
       "      <td>0.367005</td>\n",
       "      <td>0.004009</td>\n",
       "      <td>3</td>\n",
       "      <td>100</td>\n",
       "      <td>{'max_depth': 3, 'n_estimators': 100}</td>\n",
       "      <td>0.672605</td>\n",
       "      <td>0.673542</td>\n",
       "      <td>0.675792</td>\n",
       "      <td>0.667854</td>\n",
       "      <td>0.672448</td>\n",
       "      <td>0.002894</td>\n",
       "      <td>13</td>\n",
       "      <td>0.677835</td>\n",
       "      <td>0.675147</td>\n",
       "      <td>0.670521</td>\n",
       "      <td>0.676167</td>\n",
       "      <td>0.674918</td>\n",
       "      <td>0.002713</td>\n",
       "    </tr>\n",
       "    <tr>\n",
       "      <th>3</th>\n",
       "      <td>9.414980</td>\n",
       "      <td>0.076526</td>\n",
       "      <td>0.719415</td>\n",
       "      <td>0.009659</td>\n",
       "      <td>3</td>\n",
       "      <td>200</td>\n",
       "      <td>{'max_depth': 3, 'n_estimators': 200}</td>\n",
       "      <td>0.664917</td>\n",
       "      <td>0.666042</td>\n",
       "      <td>0.675792</td>\n",
       "      <td>0.666354</td>\n",
       "      <td>0.668276</td>\n",
       "      <td>0.004372</td>\n",
       "      <td>14</td>\n",
       "      <td>0.672334</td>\n",
       "      <td>0.668896</td>\n",
       "      <td>0.669021</td>\n",
       "      <td>0.672605</td>\n",
       "      <td>0.670714</td>\n",
       "      <td>0.001758</td>\n",
       "    </tr>\n",
       "    <tr>\n",
       "      <th>4</th>\n",
       "      <td>0.826219</td>\n",
       "      <td>0.017313</td>\n",
       "      <td>0.050779</td>\n",
       "      <td>0.006762</td>\n",
       "      <td>6</td>\n",
       "      <td>10</td>\n",
       "      <td>{'max_depth': 6, 'n_estimators': 10}</td>\n",
       "      <td>0.710294</td>\n",
       "      <td>0.706919</td>\n",
       "      <td>0.713482</td>\n",
       "      <td>0.700675</td>\n",
       "      <td>0.707843</td>\n",
       "      <td>0.004744</td>\n",
       "      <td>12</td>\n",
       "      <td>0.717027</td>\n",
       "      <td>0.717027</td>\n",
       "      <td>0.718465</td>\n",
       "      <td>0.711607</td>\n",
       "      <td>0.716032</td>\n",
       "      <td>0.002621</td>\n",
       "    </tr>\n",
       "    <tr>\n",
       "      <th>5</th>\n",
       "      <td>3.979341</td>\n",
       "      <td>0.018183</td>\n",
       "      <td>0.211055</td>\n",
       "      <td>0.009337</td>\n",
       "      <td>6</td>\n",
       "      <td>50</td>\n",
       "      <td>{'max_depth': 6, 'n_estimators': 50}</td>\n",
       "      <td>0.708419</td>\n",
       "      <td>0.709732</td>\n",
       "      <td>0.713107</td>\n",
       "      <td>0.703863</td>\n",
       "      <td>0.708780</td>\n",
       "      <td>0.003314</td>\n",
       "      <td>11</td>\n",
       "      <td>0.716652</td>\n",
       "      <td>0.716090</td>\n",
       "      <td>0.719777</td>\n",
       "      <td>0.715982</td>\n",
       "      <td>0.717125</td>\n",
       "      <td>0.001552</td>\n",
       "    </tr>\n",
       "    <tr>\n",
       "      <th>6</th>\n",
       "      <td>7.826857</td>\n",
       "      <td>0.059994</td>\n",
       "      <td>0.371503</td>\n",
       "      <td>0.009180</td>\n",
       "      <td>6</td>\n",
       "      <td>100</td>\n",
       "      <td>{'max_depth': 6, 'n_estimators': 100}</td>\n",
       "      <td>0.709544</td>\n",
       "      <td>0.709544</td>\n",
       "      <td>0.714420</td>\n",
       "      <td>0.705926</td>\n",
       "      <td>0.709859</td>\n",
       "      <td>0.003019</td>\n",
       "      <td>10</td>\n",
       "      <td>0.718777</td>\n",
       "      <td>0.716777</td>\n",
       "      <td>0.719152</td>\n",
       "      <td>0.718420</td>\n",
       "      <td>0.718282</td>\n",
       "      <td>0.000906</td>\n",
       "    </tr>\n",
       "    <tr>\n",
       "      <th>7</th>\n",
       "      <td>15.976118</td>\n",
       "      <td>0.095674</td>\n",
       "      <td>0.727499</td>\n",
       "      <td>0.020284</td>\n",
       "      <td>6</td>\n",
       "      <td>200</td>\n",
       "      <td>{'max_depth': 6, 'n_estimators': 200}</td>\n",
       "      <td>0.710669</td>\n",
       "      <td>0.709357</td>\n",
       "      <td>0.715170</td>\n",
       "      <td>0.705551</td>\n",
       "      <td>0.710187</td>\n",
       "      <td>0.003436</td>\n",
       "      <td>9</td>\n",
       "      <td>0.719152</td>\n",
       "      <td>0.717652</td>\n",
       "      <td>0.719715</td>\n",
       "      <td>0.718107</td>\n",
       "      <td>0.718657</td>\n",
       "      <td>0.000818</td>\n",
       "    </tr>\n",
       "    <tr>\n",
       "      <th>8</th>\n",
       "      <td>1.156598</td>\n",
       "      <td>0.015881</td>\n",
       "      <td>0.045080</td>\n",
       "      <td>0.008998</td>\n",
       "      <td>9</td>\n",
       "      <td>10</td>\n",
       "      <td>{'max_depth': 9, 'n_estimators': 10}</td>\n",
       "      <td>0.719670</td>\n",
       "      <td>0.725858</td>\n",
       "      <td>0.721920</td>\n",
       "      <td>0.720743</td>\n",
       "      <td>0.722048</td>\n",
       "      <td>0.002339</td>\n",
       "      <td>7</td>\n",
       "      <td>0.767721</td>\n",
       "      <td>0.773722</td>\n",
       "      <td>0.767221</td>\n",
       "      <td>0.771611</td>\n",
       "      <td>0.770069</td>\n",
       "      <td>0.002709</td>\n",
       "    </tr>\n",
       "    <tr>\n",
       "      <th>9</th>\n",
       "      <td>5.289829</td>\n",
       "      <td>0.056878</td>\n",
       "      <td>0.199827</td>\n",
       "      <td>0.016701</td>\n",
       "      <td>9</td>\n",
       "      <td>50</td>\n",
       "      <td>{'max_depth': 9, 'n_estimators': 50}</td>\n",
       "      <td>0.726608</td>\n",
       "      <td>0.728296</td>\n",
       "      <td>0.725858</td>\n",
       "      <td>0.731808</td>\n",
       "      <td>0.728142</td>\n",
       "      <td>0.002293</td>\n",
       "      <td>6</td>\n",
       "      <td>0.770284</td>\n",
       "      <td>0.774347</td>\n",
       "      <td>0.771471</td>\n",
       "      <td>0.770611</td>\n",
       "      <td>0.771678</td>\n",
       "      <td>0.001601</td>\n",
       "    </tr>\n",
       "    <tr>\n",
       "      <th>10</th>\n",
       "      <td>10.680562</td>\n",
       "      <td>0.063392</td>\n",
       "      <td>0.409251</td>\n",
       "      <td>0.007942</td>\n",
       "      <td>9</td>\n",
       "      <td>100</td>\n",
       "      <td>{'max_depth': 9, 'n_estimators': 100}</td>\n",
       "      <td>0.728483</td>\n",
       "      <td>0.726608</td>\n",
       "      <td>0.725858</td>\n",
       "      <td>0.732371</td>\n",
       "      <td>0.728330</td>\n",
       "      <td>0.002521</td>\n",
       "      <td>5</td>\n",
       "      <td>0.770284</td>\n",
       "      <td>0.772534</td>\n",
       "      <td>0.775409</td>\n",
       "      <td>0.770298</td>\n",
       "      <td>0.772131</td>\n",
       "      <td>0.002103</td>\n",
       "    </tr>\n",
       "    <tr>\n",
       "      <th>11</th>\n",
       "      <td>21.138653</td>\n",
       "      <td>0.105539</td>\n",
       "      <td>0.806067</td>\n",
       "      <td>0.025950</td>\n",
       "      <td>9</td>\n",
       "      <td>200</td>\n",
       "      <td>{'max_depth': 9, 'n_estimators': 200}</td>\n",
       "      <td>0.729608</td>\n",
       "      <td>0.726983</td>\n",
       "      <td>0.726045</td>\n",
       "      <td>0.731808</td>\n",
       "      <td>0.728611</td>\n",
       "      <td>0.002261</td>\n",
       "      <td>4</td>\n",
       "      <td>0.771409</td>\n",
       "      <td>0.773472</td>\n",
       "      <td>0.775534</td>\n",
       "      <td>0.770361</td>\n",
       "      <td>0.772694</td>\n",
       "      <td>0.001986</td>\n",
       "    </tr>\n",
       "    <tr>\n",
       "      <th>12</th>\n",
       "      <td>1.372059</td>\n",
       "      <td>0.042137</td>\n",
       "      <td>0.046222</td>\n",
       "      <td>0.006859</td>\n",
       "      <td>12</td>\n",
       "      <td>10</td>\n",
       "      <td>{'max_depth': 12, 'n_estimators': 10}</td>\n",
       "      <td>0.721170</td>\n",
       "      <td>0.716670</td>\n",
       "      <td>0.719295</td>\n",
       "      <td>0.719617</td>\n",
       "      <td>0.719188</td>\n",
       "      <td>0.001618</td>\n",
       "      <td>8</td>\n",
       "      <td>0.835792</td>\n",
       "      <td>0.850919</td>\n",
       "      <td>0.845668</td>\n",
       "      <td>0.847053</td>\n",
       "      <td>0.844858</td>\n",
       "      <td>0.005577</td>\n",
       "    </tr>\n",
       "    <tr>\n",
       "      <th>13</th>\n",
       "      <td>6.495568</td>\n",
       "      <td>0.074785</td>\n",
       "      <td>0.203120</td>\n",
       "      <td>0.006238</td>\n",
       "      <td>12</td>\n",
       "      <td>50</td>\n",
       "      <td>{'max_depth': 12, 'n_estimators': 50}</td>\n",
       "      <td>0.734858</td>\n",
       "      <td>0.728858</td>\n",
       "      <td>0.729046</td>\n",
       "      <td>0.732558</td>\n",
       "      <td>0.731330</td>\n",
       "      <td>0.002514</td>\n",
       "      <td>3</td>\n",
       "      <td>0.854732</td>\n",
       "      <td>0.860983</td>\n",
       "      <td>0.862233</td>\n",
       "      <td>0.858741</td>\n",
       "      <td>0.859172</td>\n",
       "      <td>0.002853</td>\n",
       "    </tr>\n",
       "    <tr>\n",
       "      <th>14</th>\n",
       "      <td>12.901430</td>\n",
       "      <td>0.180194</td>\n",
       "      <td>0.388737</td>\n",
       "      <td>0.012427</td>\n",
       "      <td>12</td>\n",
       "      <td>100</td>\n",
       "      <td>{'max_depth': 12, 'n_estimators': 100}</td>\n",
       "      <td>0.731858</td>\n",
       "      <td>0.731296</td>\n",
       "      <td>0.731483</td>\n",
       "      <td>0.734246</td>\n",
       "      <td>0.732221</td>\n",
       "      <td>0.001187</td>\n",
       "      <td>2</td>\n",
       "      <td>0.858545</td>\n",
       "      <td>0.860545</td>\n",
       "      <td>0.864671</td>\n",
       "      <td>0.860116</td>\n",
       "      <td>0.860969</td>\n",
       "      <td>0.002263</td>\n",
       "    </tr>\n",
       "    <tr>\n",
       "      <th>15</th>\n",
       "      <td>25.586594</td>\n",
       "      <td>0.170089</td>\n",
       "      <td>0.780808</td>\n",
       "      <td>0.008078</td>\n",
       "      <td>12</td>\n",
       "      <td>200</td>\n",
       "      <td>{'max_depth': 12, 'n_estimators': 200}</td>\n",
       "      <td>0.734858</td>\n",
       "      <td>0.731858</td>\n",
       "      <td>0.733546</td>\n",
       "      <td>0.737434</td>\n",
       "      <td>0.734424</td>\n",
       "      <td>0.002037</td>\n",
       "      <td>1</td>\n",
       "      <td>0.858920</td>\n",
       "      <td>0.861608</td>\n",
       "      <td>0.863358</td>\n",
       "      <td>0.861554</td>\n",
       "      <td>0.861360</td>\n",
       "      <td>0.001585</td>\n",
       "    </tr>\n",
       "  </tbody>\n",
       "</table>\n",
       "</div>"
      ],
      "text/plain": [
       "    mean_fit_time  std_fit_time  mean_score_time  std_score_time  \\\n",
       "0        0.539346      0.023652         0.054688        0.007815   \n",
       "1        3.361069      0.073286         0.198978        0.004224   \n",
       "2        5.153080      0.063080         0.367005        0.004009   \n",
       "3        9.414980      0.076526         0.719415        0.009659   \n",
       "4        0.826219      0.017313         0.050779        0.006762   \n",
       "5        3.979341      0.018183         0.211055        0.009337   \n",
       "6        7.826857      0.059994         0.371503        0.009180   \n",
       "7       15.976118      0.095674         0.727499        0.020284   \n",
       "8        1.156598      0.015881         0.045080        0.008998   \n",
       "9        5.289829      0.056878         0.199827        0.016701   \n",
       "10      10.680562      0.063392         0.409251        0.007942   \n",
       "11      21.138653      0.105539         0.806067        0.025950   \n",
       "12       1.372059      0.042137         0.046222        0.006859   \n",
       "13       6.495568      0.074785         0.203120        0.006238   \n",
       "14      12.901430      0.180194         0.388737        0.012427   \n",
       "15      25.586594      0.170089         0.780808        0.008078   \n",
       "\n",
       "   param_max_depth param_n_estimators                                  params  \\\n",
       "0                3                 10    {'max_depth': 3, 'n_estimators': 10}   \n",
       "1                3                 50    {'max_depth': 3, 'n_estimators': 50}   \n",
       "2                3                100   {'max_depth': 3, 'n_estimators': 100}   \n",
       "3                3                200   {'max_depth': 3, 'n_estimators': 200}   \n",
       "4                6                 10    {'max_depth': 6, 'n_estimators': 10}   \n",
       "5                6                 50    {'max_depth': 6, 'n_estimators': 50}   \n",
       "6                6                100   {'max_depth': 6, 'n_estimators': 100}   \n",
       "7                6                200   {'max_depth': 6, 'n_estimators': 200}   \n",
       "8                9                 10    {'max_depth': 9, 'n_estimators': 10}   \n",
       "9                9                 50    {'max_depth': 9, 'n_estimators': 50}   \n",
       "10               9                100   {'max_depth': 9, 'n_estimators': 100}   \n",
       "11               9                200   {'max_depth': 9, 'n_estimators': 200}   \n",
       "12              12                 10   {'max_depth': 12, 'n_estimators': 10}   \n",
       "13              12                 50   {'max_depth': 12, 'n_estimators': 50}   \n",
       "14              12                100  {'max_depth': 12, 'n_estimators': 100}   \n",
       "15              12                200  {'max_depth': 12, 'n_estimators': 200}   \n",
       "\n",
       "    split0_test_score  split1_test_score  split2_test_score  \\\n",
       "0            0.664729           0.669417           0.671479   \n",
       "1            0.657979           0.660229           0.660604   \n",
       "2            0.672605           0.673542           0.675792   \n",
       "3            0.664917           0.666042           0.675792   \n",
       "4            0.710294           0.706919           0.713482   \n",
       "5            0.708419           0.709732           0.713107   \n",
       "6            0.709544           0.709544           0.714420   \n",
       "7            0.710669           0.709357           0.715170   \n",
       "8            0.719670           0.725858           0.721920   \n",
       "9            0.726608           0.728296           0.725858   \n",
       "10           0.728483           0.726608           0.725858   \n",
       "11           0.729608           0.726983           0.726045   \n",
       "12           0.721170           0.716670           0.719295   \n",
       "13           0.734858           0.728858           0.729046   \n",
       "14           0.731858           0.731296           0.731483   \n",
       "15           0.734858           0.731858           0.733546   \n",
       "\n",
       "    split3_test_score  mean_test_score  std_test_score  rank_test_score  \\\n",
       "0            0.664291         0.667479        0.003061               15   \n",
       "1            0.651350         0.657540        0.003712               16   \n",
       "2            0.667854         0.672448        0.002894               13   \n",
       "3            0.666354         0.668276        0.004372               14   \n",
       "4            0.700675         0.707843        0.004744               12   \n",
       "5            0.703863         0.708780        0.003314               11   \n",
       "6            0.705926         0.709859        0.003019               10   \n",
       "7            0.705551         0.710187        0.003436                9   \n",
       "8            0.720743         0.722048        0.002339                7   \n",
       "9            0.731808         0.728142        0.002293                6   \n",
       "10           0.732371         0.728330        0.002521                5   \n",
       "11           0.731808         0.728611        0.002261                4   \n",
       "12           0.719617         0.719188        0.001618                8   \n",
       "13           0.732558         0.731330        0.002514                3   \n",
       "14           0.734246         0.732221        0.001187                2   \n",
       "15           0.737434         0.734424        0.002037                1   \n",
       "\n",
       "    split0_train_score  split1_train_score  split2_train_score  \\\n",
       "0             0.669396            0.670146            0.665146   \n",
       "1             0.664521            0.657145            0.654082   \n",
       "2             0.677835            0.675147            0.670521   \n",
       "3             0.672334            0.668896            0.669021   \n",
       "4             0.717027            0.717027            0.718465   \n",
       "5             0.716652            0.716090            0.719777   \n",
       "6             0.718777            0.716777            0.719152   \n",
       "7             0.719152            0.717652            0.719715   \n",
       "8             0.767721            0.773722            0.767221   \n",
       "9             0.770284            0.774347            0.771471   \n",
       "10            0.770284            0.772534            0.775409   \n",
       "11            0.771409            0.773472            0.775534   \n",
       "12            0.835792            0.850919            0.845668   \n",
       "13            0.854732            0.860983            0.862233   \n",
       "14            0.858545            0.860545            0.864671   \n",
       "15            0.858920            0.861608            0.863358   \n",
       "\n",
       "    split3_train_score  mean_train_score  std_train_score  \n",
       "0             0.670042          0.668682         0.002062  \n",
       "1             0.660854          0.659150         0.003920  \n",
       "2             0.676167          0.674918         0.002713  \n",
       "3             0.672605          0.670714         0.001758  \n",
       "4             0.711607          0.716032         0.002621  \n",
       "5             0.715982          0.717125         0.001552  \n",
       "6             0.718420          0.718282         0.000906  \n",
       "7             0.718107          0.718657         0.000818  \n",
       "8             0.771611          0.770069         0.002709  \n",
       "9             0.770611          0.771678         0.001601  \n",
       "10            0.770298          0.772131         0.002103  \n",
       "11            0.770361          0.772694         0.001986  \n",
       "12            0.847053          0.844858         0.005577  \n",
       "13            0.858741          0.859172         0.002853  \n",
       "14            0.860116          0.860969         0.002263  \n",
       "15            0.861554          0.861360         0.001585  "
      ]
     },
     "execution_count": 59,
     "metadata": {},
     "output_type": "execute_result"
    }
   ],
   "source": [
    "impute_df = pd.DataFrame(cv_rf_impute.cv_results_)\n",
    "impute_df"
   ]
  },
  {
   "cell_type": "code",
   "execution_count": 60,
   "metadata": {},
   "outputs": [
    {
     "data": {
      "text/plain": [
       "{'max_depth': 12, 'n_estimators': 200}"
      ]
     },
     "execution_count": 60,
     "metadata": {},
     "output_type": "execute_result"
    }
   ],
   "source": [
    "\n",
    "cv_rf_impute.best_params_"
   ]
  },
  {
   "cell_type": "code",
   "execution_count": 61,
   "metadata": {},
   "outputs": [
    {
     "data": {
      "text/plain": [
       "0.7344242187492307"
      ]
     },
     "execution_count": 61,
     "metadata": {},
     "output_type": "execute_result"
    }
   ],
   "source": [
    "cv_rf_impute.best_score_"
   ]
  },
  {
   "cell_type": "code",
   "execution_count": 62,
   "metadata": {},
   "outputs": [],
   "source": [
    "pay_1_value_counts = pay_1_df['PAY_1'].value_counts().sort_index()"
   ]
  },
  {
   "cell_type": "code",
   "execution_count": 63,
   "metadata": {},
   "outputs": [
    {
     "data": {
      "text/plain": [
       "-2     2476\n",
       "-1     5047\n",
       " 0    13087\n",
       " 1     3261\n",
       " 2     2378\n",
       " 3      292\n",
       " 4       63\n",
       " 5       23\n",
       " 6       11\n",
       " 7        9\n",
       " 8       17\n",
       "Name: PAY_1, dtype: int64"
      ]
     },
     "execution_count": 63,
     "metadata": {},
     "output_type": "execute_result"
    }
   ],
   "source": [
    "pay_1_value_counts\n"
   ]
  },
  {
   "cell_type": "code",
   "execution_count": 64,
   "metadata": {
    "scrolled": true
   },
   "outputs": [
    {
     "data": {
      "text/plain": [
       "-2    0.092859\n",
       "-1    0.189281\n",
       " 0    0.490812\n",
       " 1    0.122300\n",
       " 2    0.089184\n",
       " 3    0.010951\n",
       " 4    0.002363\n",
       " 5    0.000863\n",
       " 6    0.000413\n",
       " 7    0.000338\n",
       " 8    0.000638\n",
       "Name: PAY_1, dtype: float64"
      ]
     },
     "execution_count": 64,
     "metadata": {},
     "output_type": "execute_result"
    }
   ],
   "source": [
    "pay_1_value_counts/pay_1_value_counts.sum()"
   ]
  },
  {
   "cell_type": "code",
   "execution_count": 65,
   "metadata": {},
   "outputs": [
    {
     "name": "stderr",
     "output_type": "stream",
     "text": [
      "[Parallel(n_jobs=1)]: Using backend SequentialBackend with 1 concurrent workers.\n",
      "[Parallel(n_jobs=1)]: Done 200 out of 200 | elapsed:    0.9s finished\n"
     ]
    }
   ],
   "source": [
    "y_impute_predict = cv_rf_impute.predict(X_impute_test)"
   ]
  },
  {
   "cell_type": "code",
   "execution_count": 66,
   "metadata": {},
   "outputs": [],
   "source": [
    "from sklearn import metrics"
   ]
  },
  {
   "cell_type": "code",
   "execution_count": 67,
   "metadata": {},
   "outputs": [
    {
     "data": {
      "text/plain": [
       "0.7391711981998875"
      ]
     },
     "execution_count": 67,
     "metadata": {},
     "output_type": "execute_result"
    }
   ],
   "source": [
    "\n",
    "metrics.accuracy_score(y_impute_test, y_impute_predict)"
   ]
  },
  {
   "cell_type": "code",
   "execution_count": 68,
   "metadata": {},
   "outputs": [
    {
     "data": {
      "image/png": "[encoded data removed]",
      "text/plain": [
       "<Figure size 800x300 with 2 Axes>"
      ]
     },
     "metadata": {
      "needs_background": "light"
     },
     "output_type": "display_data"
    }
   ],
   "source": [
    "fig, axs = plt.subplots(1,2, figsize=(8,3))\n",
    "axs[0].hist(y_impute_test, bins=bin_edges, align='left')\n",
    "axs[0].set_xticks(bin_edges)\n",
    "axs[0].set_title('Non-missing values of PAY_1')\n",
    "axs[1].hist(y_impute_predict, bins=bin_edges, align='left')\n",
    "axs[1].set_xticks(bin_edges)\n",
    "axs[1].set_title('Model-based imputation')\n",
    "plt.tight_layout()"
   ]
  },
  {
   "cell_type": "code",
   "execution_count": 69,
   "metadata": {},
   "outputs": [],
   "source": [
    "X_impute_all = pay_1_df[features_for_imputation].values\n",
    "y_impute_all = pay_1_df['PAY_1'].values"
   ]
  },
  {
   "cell_type": "code",
   "execution_count": 70,
   "metadata": {},
   "outputs": [],
   "source": [
    "rf_impute = RandomForestClassifier(n_estimators=100, max_depth=12)"
   ]
  },
  {
   "cell_type": "code",
   "execution_count": 71,
   "metadata": {},
   "outputs": [
    {
     "data": {
      "text/plain": [
       "RandomForestClassifier(bootstrap=True, ccp_alpha=0.0, class_weight=None,\n",
       "                       criterion='gini', max_depth=12, max_features='auto',\n",
       "                       max_leaf_nodes=None, max_samples=None,\n",
       "                       min_impurity_decrease=0.0, min_impurity_split=None,\n",
       "                       min_samples_leaf=1, min_samples_split=2,\n",
       "                       min_weight_fraction_leaf=0.0, n_estimators=100,\n",
       "                       n_jobs=None, oob_score=False, random_state=None,\n",
       "                       verbose=0, warm_start=False)"
      ]
     },
     "execution_count": 71,
     "metadata": {},
     "output_type": "execute_result"
    }
   ],
   "source": [
    "\n",
    "rf_impute"
   ]
  },
  {
   "cell_type": "code",
   "execution_count": 72,
   "metadata": {},
   "outputs": [
    {
     "data": {
      "text/plain": [
       "RandomForestClassifier(bootstrap=True, ccp_alpha=0.0, class_weight=None,\n",
       "                       criterion='gini', max_depth=12, max_features='auto',\n",
       "                       max_leaf_nodes=None, max_samples=None,\n",
       "                       min_impurity_decrease=0.0, min_impurity_split=None,\n",
       "                       min_samples_leaf=1, min_samples_split=2,\n",
       "                       min_weight_fraction_leaf=0.0, n_estimators=100,\n",
       "                       n_jobs=None, oob_score=False, random_state=None,\n",
       "                       verbose=0, warm_start=False)"
      ]
     },
     "execution_count": 72,
     "metadata": {},
     "output_type": "execute_result"
    }
   ],
   "source": [
    "rf_impute.fit(X_impute_all, y_impute_all)"
   ]
  },
  {
   "cell_type": "code",
   "execution_count": 73,
   "metadata": {},
   "outputs": [],
   "source": [
    "df_fill_pay_1_model = df_missing_pay_1.copy()"
   ]
  },
  {
   "cell_type": "code",
   "execution_count": 74,
   "metadata": {},
   "outputs": [
    {
     "data": {
      "text/plain": [
       "17    Not available\n",
       "28    Not available\n",
       "29    Not available\n",
       "54    Not available\n",
       "60    Not available\n",
       "Name: PAY_1, dtype: object"
      ]
     },
     "execution_count": 74,
     "metadata": {},
     "output_type": "execute_result"
    }
   ],
   "source": [
    "\n",
    "df_fill_pay_1_model['PAY_1'].head()"
   ]
  },
  {
   "cell_type": "code",
   "execution_count": 75,
   "metadata": {},
   "outputs": [],
   "source": [
    "\n",
    "df_fill_pay_1_model['PAY_1'] = rf_impute.predict(df_fill_pay_1_model[features_for_imputation].values)"
   ]
  },
  {
   "cell_type": "code",
   "execution_count": 76,
   "metadata": {},
   "outputs": [
    {
     "data": {
      "text/plain": [
       "17    0\n",
       "28   -1\n",
       "29    0\n",
       "54    0\n",
       "60    0\n",
       "Name: PAY_1, dtype: int64"
      ]
     },
     "execution_count": 76,
     "metadata": {},
     "output_type": "execute_result"
    }
   ],
   "source": [
    "df_fill_pay_1_model['PAY_1'].head()"
   ]
  },
  {
   "cell_type": "code",
   "execution_count": 77,
   "metadata": {},
   "outputs": [
    {
     "data": {
      "text/plain": [
       "-2      30\n",
       "-1     763\n",
       " 0    1715\n",
       " 1     438\n",
       " 2      64\n",
       " 3       7\n",
       " 4       2\n",
       " 6       1\n",
       " 8       1\n",
       "Name: PAY_1, dtype: int64"
      ]
     },
     "execution_count": 77,
     "metadata": {},
     "output_type": "execute_result"
    }
   ],
   "source": [
    "df_fill_pay_1_model['PAY_1'].value_counts().sort_index()"
   ]
  },
  {
   "cell_type": "code",
   "execution_count": 78,
   "metadata": {},
   "outputs": [],
   "source": [
    "X_fill_pay_1_train, X_fill_pay_1_test, y_fill_pay_1_train, y_fill_pay_1_test = \\\n",
    "train_test_split(\n",
    "    df_fill_pay_1_model[features_response[:-1]].values,\n",
    "    df_fill_pay_1_model['default payment next month'].values,\n",
    "test_size=0.2, random_state=24)"
   ]
  },
  {
   "cell_type": "code",
   "execution_count": 79,
   "metadata": {},
   "outputs": [
    {
     "name": "stdout",
     "output_type": "stream",
     "text": [
      "(2416, 17)\n",
      "(605, 17)\n",
      "(2416,)\n",
      "(605,)\n"
     ]
    }
   ],
   "source": [
    "print(X_fill_pay_1_train.shape)\n",
    "print(X_fill_pay_1_test.shape)\n",
    "print(y_fill_pay_1_train.shape)\n",
    "print(y_fill_pay_1_test.shape)"
   ]
  },
  {
   "cell_type": "code",
   "execution_count": 80,
   "metadata": {},
   "outputs": [],
   "source": [
    "X_train_all = np.concatenate((X_train, X_fill_pay_1_train), axis=0)\n",
    "y_train_all = np.concatenate((y_train, y_fill_pay_1_train), axis=0)"
   ]
  },
  {
   "cell_type": "code",
   "execution_count": 81,
   "metadata": {},
   "outputs": [
    {
     "name": "stdout",
     "output_type": "stream",
     "text": [
      "(23747, 17)\n",
      "(23747,)\n"
     ]
    }
   ],
   "source": [
    "\n",
    "print(X_train_all.shape)\n",
    "print(y_train_all.shape)"
   ]
  },
  {
   "cell_type": "code",
   "execution_count": 82,
   "metadata": {},
   "outputs": [
    {
     "data": {
      "text/plain": [
       "RandomForestClassifier(bootstrap=True, ccp_alpha=0.0, class_weight=None,\n",
       "                       criterion='gini', max_depth=9, max_features='auto',\n",
       "                       max_leaf_nodes=None, max_samples=None,\n",
       "                       min_impurity_decrease=0.0, min_impurity_split=None,\n",
       "                       min_samples_leaf=1, min_samples_split=2,\n",
       "                       min_weight_fraction_leaf=0.0, n_estimators=200,\n",
       "                       n_jobs=None, oob_score=False, random_state=4, verbose=1,\n",
       "                       warm_start=False)"
      ]
     },
     "execution_count": 82,
     "metadata": {},
     "output_type": "execute_result"
    }
   ],
   "source": [
    "rf"
   ]
  },
  {
   "cell_type": "code",
   "execution_count": 83,
   "metadata": {},
   "outputs": [
    {
     "name": "stderr",
     "output_type": "stream",
     "text": [
      "[Parallel(n_jobs=-1)]: Using backend LokyBackend with 4 concurrent workers.\n",
      "[Parallel(n_jobs=-1)]: Done   2 out of   4 | elapsed:   31.3s remaining:   31.3s\n",
      "[Parallel(n_jobs=-1)]: Done   4 out of   4 | elapsed:   31.6s finished\n"
     ]
    }
   ],
   "source": [
    "imputation_compare_cv = cross_validate(rf, X_train_all, y_train_all, scoring='roc_auc',\n",
    "                                       cv=k_folds, n_jobs=-1, verbose=1,\n",
    "                                       return_train_score=True, return_estimator=True,\n",
    "                                       error_score='raise-deprecating')"
   ]
  },
  {
   "cell_type": "code",
   "execution_count": 84,
   "metadata": {},
   "outputs": [
    {
     "data": {
      "text/plain": [
       "array([0.76890992, 0.77309591, 0.77166336, 0.77703366])"
      ]
     },
     "execution_count": 84,
     "metadata": {},
     "output_type": "execute_result"
    }
   ],
   "source": [
    "imputation_compare_cv['test_score']"
   ]
  },
  {
   "cell_type": "code",
   "execution_count": 85,
   "metadata": {},
   "outputs": [
    {
     "data": {
      "text/plain": [
       "0.7726757126815554"
      ]
     },
     "execution_count": 85,
     "metadata": {},
     "output_type": "execute_result"
    }
   ],
   "source": [
    "np.mean(imputation_compare_cv['test_score'])"
   ]
  },
  {
   "cell_type": "code",
   "execution_count": 86,
   "metadata": {},
   "outputs": [
    {
     "data": {
      "text/plain": [
       "0.002931480680760725"
      ]
     },
     "execution_count": 86,
     "metadata": {},
     "output_type": "execute_result"
    }
   ],
   "source": [
    "np.std(imputation_compare_cv['test_score'])"
   ]
  },
  {
   "cell_type": "code",
   "execution_count": 87,
   "metadata": {},
   "outputs": [],
   "source": [
    "df_fill_pay_1_model['PAY_1'] = np.zeros_like(df_fill_pay_1_model['PAY_1'].values)"
   ]
  },
  {
   "cell_type": "code",
   "execution_count": 88,
   "metadata": {},
   "outputs": [
    {
     "data": {
      "text/plain": [
       "array([0], dtype=int64)"
      ]
     },
     "execution_count": 88,
     "metadata": {},
     "output_type": "execute_result"
    }
   ],
   "source": [
    "df_fill_pay_1_model['PAY_1'].unique()"
   ]
  },
  {
   "cell_type": "code",
   "execution_count": 89,
   "metadata": {},
   "outputs": [],
   "source": [
    "X_fill_pay_1_train, X_fill_pay_1_test, y_fill_pay_1_train, y_fill_pay_1_test = \\\n",
    "train_test_split(\n",
    "    df_fill_pay_1_model[features_response[:-1]].values,\n",
    "    df_fill_pay_1_model['default payment next month'].values,\n",
    "test_size=0.2, random_state=24)"
   ]
  },
  {
   "cell_type": "code",
   "execution_count": 90,
   "metadata": {},
   "outputs": [],
   "source": [
    "X_train_all = np.concatenate((X_train, X_fill_pay_1_train), axis=0)\n",
    "X_test_all = np.concatenate((X_test, X_fill_pay_1_test), axis=0)\n",
    "y_train_all = np.concatenate((y_train, y_fill_pay_1_train), axis=0)\n",
    "y_test_all = np.concatenate((y_test, y_fill_pay_1_test), axis=0)"
   ]
  },
  {
   "cell_type": "code",
   "execution_count": 91,
   "metadata": {},
   "outputs": [
    {
     "name": "stdout",
     "output_type": "stream",
     "text": [
      "(23747, 17)\n",
      "(5938, 17)\n",
      "(23747,)\n",
      "(5938,)\n"
     ]
    }
   ],
   "source": [
    "print(X_train_all.shape)\n",
    "print(X_test_all.shape)\n",
    "print(y_train_all.shape)\n",
    "print(y_test_all.shape)"
   ]
  },
  {
   "cell_type": "code",
   "execution_count": 92,
   "metadata": {},
   "outputs": [
    {
     "name": "stderr",
     "output_type": "stream",
     "text": [
      "[Parallel(n_jobs=-1)]: Using backend LokyBackend with 4 concurrent workers.\n",
      "[Parallel(n_jobs=-1)]: Done   2 out of   4 | elapsed:   26.1s remaining:   26.1s\n",
      "[Parallel(n_jobs=-1)]: Done   4 out of   4 | elapsed:   26.5s finished\n"
     ]
    }
   ],
   "source": [
    "imputation_compare_cv = cross_validate(rf, X_train_all, y_train_all, scoring='roc_auc',\n",
    "                                       cv=k_folds, n_jobs=-1, verbose=1,\n",
    "                                       return_train_score=True, return_estimator=True,\n",
    "                                       error_score='raise-deprecating')"
   ]
  },
  {
   "cell_type": "code",
   "execution_count": 93,
   "metadata": {},
   "outputs": [
    {
     "data": {
      "text/plain": [
       "0.772866246168149"
      ]
     },
     "execution_count": 93,
     "metadata": {},
     "output_type": "execute_result"
    }
   ],
   "source": [
    "np.mean(imputation_compare_cv['test_score'])"
   ]
  },
  {
   "cell_type": "code",
   "execution_count": 94,
   "metadata": {},
   "outputs": [
    {
     "name": "stderr",
     "output_type": "stream",
     "text": [
      "[Parallel(n_jobs=1)]: Using backend SequentialBackend with 1 concurrent workers.\n",
      "[Parallel(n_jobs=1)]: Done 200 out of 200 | elapsed:   27.4s finished\n"
     ]
    },
    {
     "data": {
      "text/plain": [
       "RandomForestClassifier(bootstrap=True, ccp_alpha=0.0, class_weight=None,\n",
       "                       criterion='gini', max_depth=9, max_features='auto',\n",
       "                       max_leaf_nodes=None, max_samples=None,\n",
       "                       min_impurity_decrease=0.0, min_impurity_split=None,\n",
       "                       min_samples_leaf=1, min_samples_split=2,\n",
       "                       min_weight_fraction_leaf=0.0, n_estimators=200,\n",
       "                       n_jobs=None, oob_score=False, random_state=4, verbose=1,\n",
       "                       warm_start=False)"
      ]
     },
     "execution_count": 94,
     "metadata": {},
     "output_type": "execute_result"
    }
   ],
   "source": [
    "\n",
    "rf.fit(X_train_all, y_train_all)"
   ]
  },
  {
   "cell_type": "code",
   "execution_count": 95,
   "metadata": {},
   "outputs": [
    {
     "name": "stderr",
     "output_type": "stream",
     "text": [
      "[Parallel(n_jobs=1)]: Using backend SequentialBackend with 1 concurrent workers.\n",
      "[Parallel(n_jobs=1)]: Done 200 out of 200 | elapsed:    0.4s finished\n"
     ]
    }
   ],
   "source": [
    "y_test_all_predict_proba = rf.predict_proba(X_test_all)"
   ]
  },
  {
   "cell_type": "code",
   "execution_count": 96,
   "metadata": {},
   "outputs": [],
   "source": [
    "from sklearn.metrics import roc_auc_score"
   ]
  },
  {
   "cell_type": "code",
   "execution_count": 97,
   "metadata": {},
   "outputs": [
    {
     "data": {
      "text/plain": [
       "0.7696243835824927"
      ]
     },
     "execution_count": 97,
     "metadata": {},
     "output_type": "execute_result"
    }
   ],
   "source": [
    "roc_auc_score(y_test_all, y_test_all_predict_proba[:,1])"
   ]
  },
  {
   "cell_type": "code",
   "execution_count": 98,
   "metadata": {},
   "outputs": [],
   "source": [
    "thresholds = np.linspace(0, 1, 101)"
   ]
  },
  {
   "cell_type": "code",
   "execution_count": 99,
   "metadata": {},
   "outputs": [
    {
     "data": {
      "text/plain": [
       "'BILL_AMT1'"
      ]
     },
     "execution_count": 99,
     "metadata": {},
     "output_type": "execute_result"
    }
   ],
   "source": [
    "df[features_response[:-1]].columns[5]"
   ]
  },
  {
   "cell_type": "code",
   "execution_count": 100,
   "metadata": {},
   "outputs": [
    {
     "data": {
      "text/plain": [
       "51601.7433479286"
      ]
     },
     "execution_count": 100,
     "metadata": {},
     "output_type": "execute_result"
    }
   ],
   "source": [
    "savings_per_default = np.mean(X_test_all[:, 5])\n",
    "savings_per_default"
   ]
  },
  {
   "cell_type": "code",
   "execution_count": 101,
   "metadata": {},
   "outputs": [],
   "source": [
    "\n",
    "cost_per_counseling = 7500"
   ]
  },
  {
   "cell_type": "code",
   "execution_count": 102,
   "metadata": {},
   "outputs": [],
   "source": [
    "effectiveness = 0.70"
   ]
  },
  {
   "cell_type": "code",
   "execution_count": 103,
   "metadata": {},
   "outputs": [],
   "source": [
    "n_pos_pred = np.empty_like(thresholds)\n",
    "cost_of_all_counselings = np.empty_like(thresholds)\n",
    "n_true_pos = np.empty_like(thresholds)\n",
    "savings_of_all_counselings = np.empty_like(thresholds)\n"
   ]
  },
  {
   "cell_type": "code",
   "execution_count": 104,
   "metadata": {},
   "outputs": [],
   "source": [
    "counter = 0\n",
    "for threshold in thresholds:\n",
    "    pos_pred = y_test_all_predict_proba[:,1]>threshold\n",
    "    n_pos_pred[counter] = sum(pos_pred)\n",
    "    cost_of_all_counselings[counter] = n_pos_pred[counter] * cost_per_counseling\n",
    "    true_pos = pos_pred & y_test_all.astype(bool)\n",
    "    n_true_pos[counter] = sum(true_pos)\n",
    "    savings_of_all_counselings[counter] = n_true_pos[counter] * savings_per_default * effectiveness\n",
    "    \n",
    "    counter += 1"
   ]
  },
  {
   "cell_type": "code",
   "execution_count": 105,
   "metadata": {},
   "outputs": [],
   "source": [
    "net_savings = savings_of_all_counselings - cost_of_all_counselings"
   ]
  },
  {
   "cell_type": "code",
   "execution_count": 107,
   "metadata": {},
   "outputs": [
    {
     "data": {
      "image/png": "[encoded data removed]",
      "text/plain": [
       "<Figure size 600x400 with 1 Axes>"
      ]
     },
     "metadata": {
      "needs_background": "light"
     },
     "output_type": "display_data"
    }
   ],
   "source": [
    "mpl.rcParams['figure.dpi'] = 100\n",
    "plt.plot(thresholds, net_savings)\n",
    "plt.xlabel('Threshold')\n",
    "plt.ylabel('Net savings (NT$)')\n",
    "plt.xticks(np.linspace(0,1,11))\n",
    "plt.grid(True)"
   ]
  },
  {
   "cell_type": "code",
   "execution_count": 108,
   "metadata": {},
   "outputs": [],
   "source": [
    "max_savings_ix = np.argmax(net_savings)"
   ]
  },
  {
   "cell_type": "code",
   "execution_count": 109,
   "metadata": {},
   "outputs": [
    {
     "data": {
      "text/plain": [
       "0.2"
      ]
     },
     "execution_count": 109,
     "metadata": {},
     "output_type": "execute_result"
    }
   ],
   "source": [
    "\n",
    "thresholds[max_savings_ix]"
   ]
  },
  {
   "cell_type": "code",
   "execution_count": 110,
   "metadata": {},
   "outputs": [
    {
     "data": {
      "text/plain": [
       "15446325.35991916"
      ]
     },
     "execution_count": 110,
     "metadata": {},
     "output_type": "execute_result"
    }
   ],
   "source": [
    "net_savings[max_savings_ix]\n"
   ]
  },
  {
   "cell_type": "code",
   "execution_count": 111,
   "metadata": {},
   "outputs": [
    {
     "data": {
      "text/plain": [
       "1285"
      ]
     },
     "execution_count": 111,
     "metadata": {},
     "output_type": "execute_result"
    }
   ],
   "source": [
    "sum(y_test_all)"
   ]
  },
  {
   "cell_type": "code",
   "execution_count": 112,
   "metadata": {},
   "outputs": [],
   "source": [
    "cost_wo_couns=sum(y_test_all)*savings_per_default"
   ]
  },
  {
   "cell_type": "code",
   "execution_count": 113,
   "metadata": {},
   "outputs": [
    {
     "data": {
      "text/plain": [
       "66308240.202088244"
      ]
     },
     "execution_count": 113,
     "metadata": {},
     "output_type": "execute_result"
    }
   ],
   "source": [
    "cost_wo_couns"
   ]
  },
  {
   "cell_type": "code",
   "execution_count": 114,
   "metadata": {},
   "outputs": [
    {
     "data": {
      "text/plain": [
       "array([ 1880768.14146177,  1880768.14146177,  1880768.14146177,\n",
       "        1880768.14146177,  1880768.14146177,  1994646.92111822,\n",
       "        2888525.70077467,  3978177.15836982,  5656358.85321657,\n",
       "        7257722.24291007,  8978919.05638262,  9769676.34435837,\n",
       "       10775009.49680027, 11227660.68305827, 12066008.95412597,\n",
       "       12813145.02175817, 13576659.86904681, 14302674.71633547,\n",
       "       14686447.12293702, 15203068.07194342, 15446325.35991916,\n",
       "       15373976.54617716, 15364218.71552711, 15344203.32556416,\n",
       "       15434536.47800606, 15254869.63044796, 14894596.68117211,\n",
       "       14576566.17258336, 14477247.86743011, 14099217.35884136,\n",
       "       13906535.39265746, 13518247.32475581, 13476171.46028966,\n",
       "       12993140.95170091, 12878049.96860896, 12670974.10414281,\n",
       "       12339155.79898956, 11957595.05314921, 11704140.40902661,\n",
       "       11474564.54456046, 11186367.45975076, 10909806.71391041,\n",
       "       10740836.95116201, 10409018.64600876, 10048579.12051195,\n",
       "        9987973.01879421,  9889866.91707646,  9764518.3746716 ,\n",
       "        9666412.27295386,  9568306.17123611,  9378215.18814416,\n",
       "        9228987.86608286,  9123381.7643651 ,  9061396.8829909 ,\n",
       "        9020533.22196026,  8942169.56092961,  8765699.79818121,\n",
       "        8804578.57783766,  8762336.13715055,  8613108.81508926,\n",
       "        8421639.05234086,  8028441.96753115,  7858093.4251263 ,\n",
       "        7702744.88272145,  7482653.8996295 ,  7205320.47585045,\n",
       "        6807380.95035365,  6531426.30623105,  5958395.7976423 ,\n",
       "        5281744.06871   ,  4576471.11943415,  3755334.50912765,\n",
       "        3229288.8819131 ,  2644622.034355  ,  2252803.72920175,\n",
       "        1803742.9833614 ,  1512788.3392388 ,  1113470.03408555,\n",
       "         870879.0509936 ,   771394.1696194 ,   607166.8475581 ,\n",
       "         572424.406871  ,   572424.406871  ,   543803.18652745,\n",
       "         486560.74584035,   429318.30515325,   343454.6441226 ,\n",
       "         228969.7627484 ,   200348.54240485,    85863.66103065,\n",
       "          85863.66103065,    85863.66103065,        0.        ,\n",
       "              0.        ,        0.        ,        0.        ,\n",
       "              0.        ,        0.        ,        0.        ,\n",
       "              0.        ,        0.        ])"
      ]
     },
     "execution_count": 114,
     "metadata": {},
     "output_type": "execute_result"
    }
   ],
   "source": [
    "\n",
    "net_savings = savings_of_all_counselings - cost_of_all_counselings\n",
    "net_savings"
   ]
  },
  {
   "cell_type": "code",
   "execution_count": 115,
   "metadata": {},
   "outputs": [
    {
     "data": {
      "text/plain": [
       "15446325.35991916"
      ]
     },
     "execution_count": 115,
     "metadata": {},
     "output_type": "execute_result"
    }
   ],
   "source": [
    "net_savings[max_savings_ix]"
   ]
  },
  {
   "cell_type": "code",
   "execution_count": 116,
   "metadata": {},
   "outputs": [],
   "source": [
    "\n",
    "perc_w_couns=net_savings[max_savings_ix]/cost_wo_couns"
   ]
  },
  {
   "cell_type": "code",
   "execution_count": 117,
   "metadata": {},
   "outputs": [
    {
     "data": {
      "text/plain": [
       "0.2329472975431598"
      ]
     },
     "execution_count": 117,
     "metadata": {},
     "output_type": "execute_result"
    }
   ],
   "source": [
    "perc_w_couns"
   ]
  },
  {
   "cell_type": "code",
   "execution_count": 118,
   "metadata": {},
   "outputs": [
    {
     "data": {
      "text/plain": [
       "5938"
      ]
     },
     "execution_count": 118,
     "metadata": {},
     "output_type": "execute_result"
    }
   ],
   "source": [
    "len(y_test_all)"
   ]
  },
  {
   "cell_type": "code",
   "execution_count": 119,
   "metadata": {},
   "outputs": [
    {
     "data": {
      "text/plain": [
       "15446325.35991916"
      ]
     },
     "execution_count": 119,
     "metadata": {},
     "output_type": "execute_result"
    }
   ],
   "source": [
    "net_savings[max_savings_ix] "
   ]
  },
  {
   "cell_type": "code",
   "execution_count": 120,
   "metadata": {},
   "outputs": [
    {
     "data": {
      "text/plain": [
       "2601.2673223171373"
      ]
     },
     "execution_count": 120,
     "metadata": {},
     "output_type": "execute_result"
    }
   ],
   "source": [
    "net_savings[max_savings_ix]/len(y_test_all)"
   ]
  },
  {
   "cell_type": "code",
   "execution_count": 121,
   "metadata": {},
   "outputs": [
    {
     "data": {
      "text/plain": [
       "array([4.45350e+07, 4.45350e+07, 4.45350e+07, 4.45350e+07, 4.45350e+07,\n",
       "       4.43850e+07, 4.34550e+07, 4.21125e+07, 3.98925e+07, 3.72075e+07,\n",
       "       3.48000e+07, 3.27450e+07, 3.09450e+07, 2.90475e+07, 2.72700e+07,\n",
       "       2.52225e+07, 2.31225e+07, 2.10600e+07, 1.92675e+07, 1.75950e+07,\n",
       "       1.60875e+07, 1.47150e+07, 1.36050e+07, 1.25775e+07, 1.16925e+07,\n",
       "       1.10775e+07, 1.04625e+07, 9.87750e+06, 9.43500e+06, 8.91000e+06,\n",
       "       8.45250e+06, 8.01000e+06, 7.58250e+06, 7.16250e+06, 6.95250e+06,\n",
       "       6.69000e+06, 6.48000e+06, 6.24750e+06, 6.06750e+06, 5.82750e+06,\n",
       "       5.61000e+06, 5.27250e+06, 5.15250e+06, 4.94250e+06, 4.72500e+06,\n",
       "       4.60500e+06, 4.52250e+06, 4.39500e+06, 4.31250e+06, 4.23000e+06,\n",
       "       4.09500e+06, 4.02750e+06, 3.95250e+06, 3.87000e+06, 3.80250e+06,\n",
       "       3.77250e+06, 3.66000e+06, 3.58500e+06, 3.55500e+06, 3.48750e+06,\n",
       "       3.39000e+06, 3.27750e+06, 3.19500e+06, 3.09750e+06, 2.99250e+06,\n",
       "       2.87250e+06, 2.69250e+06, 2.53500e+06, 2.20500e+06, 1.94250e+06,\n",
       "       1.67250e+06, 1.41000e+06, 1.17750e+06, 9.67500e+05, 8.17500e+05,\n",
       "       6.52500e+05, 5.10000e+05, 3.67500e+05, 2.85000e+05, 2.40000e+05,\n",
       "       1.87500e+05, 1.50000e+05, 1.50000e+05, 1.42500e+05, 1.27500e+05,\n",
       "       1.12500e+05, 9.00000e+04, 6.00000e+04, 5.25000e+04, 2.25000e+04,\n",
       "       2.25000e+04, 2.25000e+04, 0.00000e+00, 0.00000e+00, 0.00000e+00,\n",
       "       0.00000e+00, 0.00000e+00, 0.00000e+00, 0.00000e+00, 0.00000e+00,\n",
       "       0.00000e+00])"
      ]
     },
     "execution_count": 121,
     "metadata": {},
     "output_type": "execute_result"
    }
   ],
   "source": [
    "cost_of_all_counselings"
   ]
  },
  {
   "cell_type": "code",
   "execution_count": 122,
   "metadata": {},
   "outputs": [
    {
     "data": {
      "text/plain": [
       "array([7.50000000e+03, 7.50000000e+03, 7.50000000e+03, 7.50000000e+03,\n",
       "       7.50000000e+03, 7.47473897e+03, 7.31812058e+03, 7.09203436e+03,\n",
       "       6.71817110e+03, 6.26599865e+03, 5.86055911e+03, 5.51448299e+03,\n",
       "       5.21135062e+03, 4.89179859e+03, 4.59245537e+03, 4.24764230e+03,\n",
       "       3.89398787e+03, 3.54664870e+03, 3.24477939e+03, 2.96311890e+03,\n",
       "       2.70924554e+03, 2.47810711e+03, 2.29117548e+03, 2.11813742e+03,\n",
       "       1.96909734e+03, 1.86552711e+03, 1.76195689e+03, 1.66343887e+03,\n",
       "       1.58891883e+03, 1.50050522e+03, 1.42345908e+03, 1.34893904e+03,\n",
       "       1.27694510e+03, 1.20621421e+03, 1.17084877e+03, 1.12664197e+03,\n",
       "       1.09127652e+03, 1.05212193e+03, 1.02180869e+03, 9.81391041e+02,\n",
       "       9.44762546e+02, 8.87925227e+02, 8.67716403e+02, 8.32350960e+02,\n",
       "       7.95722465e+02, 7.75513641e+02, 7.61620074e+02, 7.40148198e+02,\n",
       "       7.26254631e+02, 7.12361064e+02, 6.89626137e+02, 6.78258673e+02,\n",
       "       6.65628158e+02, 6.51734591e+02, 6.40367127e+02, 6.35314921e+02,\n",
       "       6.16369148e+02, 6.03738633e+02, 5.98686426e+02, 5.87318963e+02,\n",
       "       5.70899293e+02, 5.51953520e+02, 5.38059953e+02, 5.21640283e+02,\n",
       "       5.03957561e+02, 4.83748737e+02, 4.53435500e+02, 4.26911418e+02,\n",
       "       3.71337151e+02, 3.27130347e+02, 2.81660492e+02, 2.37453688e+02,\n",
       "       1.98299091e+02, 1.62933648e+02, 1.37672617e+02, 1.09885483e+02,\n",
       "       8.58875042e+01, 6.18895251e+01, 4.79959582e+01, 4.04176490e+01,\n",
       "       3.15762883e+01, 2.52610307e+01, 2.52610307e+01, 2.39979791e+01,\n",
       "       2.14718761e+01, 1.89457730e+01, 1.51566184e+01, 1.01044123e+01,\n",
       "       8.84136073e+00, 3.78915460e+00, 3.78915460e+00, 3.78915460e+00,\n",
       "       0.00000000e+00, 0.00000000e+00, 0.00000000e+00, 0.00000000e+00,\n",
       "       0.00000000e+00, 0.00000000e+00, 0.00000000e+00, 0.00000000e+00,\n",
       "       0.00000000e+00])"
      ]
     },
     "execution_count": 122,
     "metadata": {},
     "output_type": "execute_result"
    }
   ],
   "source": [
    "cost_of_couns_per_acc=cost_of_all_counselings/len(y_test_all)\n",
    "cost_of_couns_per_acc"
   ]
  },
  {
   "cell_type": "code",
   "execution_count": 123,
   "metadata": {},
   "outputs": [
    {
     "data": {
      "text/plain": [
       "array([ 316.73427778,  316.73427778,  316.73427778,  316.73427778,\n",
       "        316.73427778,  335.91224674,  486.44757507,  669.95236753,\n",
       "        952.56969573, 1222.25029352, 1512.11166325, 1645.28062384,\n",
       "       1814.58563436, 1890.81520429, 2031.99881343, 2157.82166079,\n",
       "       2286.40280718, 2408.66869591, 2473.29860609, 2560.3011236 ,\n",
       "       2601.26732232, 2589.08328497, 2587.43999925, 2584.06927005,\n",
       "       2599.2819936 , 2569.02486198, 2508.35242189, 2454.79389905,\n",
       "       2438.06801405, 2374.40507896, 2341.95611193, 2276.56573337,\n",
       "       2269.47986869, 2188.13421214, 2168.7520998 , 2133.8791014 ,\n",
       "       2077.99861889, 2013.74116759, 1971.05766403, 1932.39551104,\n",
       "       1883.86114176, 1837.28641191, 1808.83074287, 1752.95026036,\n",
       "       1692.24976768, 1682.04328373, 1665.52154211, 1644.4119863 ,\n",
       "       1627.89024469, 1611.36850307, 1579.3558754 , 1554.22496903,\n",
       "       1536.44017588, 1526.00149596, 1519.11977466, 1505.92279571,\n",
       "       1476.20407514, 1482.75152877, 1475.63761151, 1450.50670513,\n",
       "       1418.2618815 , 1352.04479076, 1323.35692575, 1297.19516381,\n",
       "       1260.13033002, 1213.42547589, 1146.40972556, 1099.9370674 ,\n",
       "       1003.43479246,  889.48199204,  770.70918145,  632.42413424,\n",
       "        543.83443616,  445.37252178,  379.38762701,  303.76271192,\n",
       "        254.7639507 ,  187.51600439,  146.662016  ,  129.90807841,\n",
       "        102.25106897,   96.40020325,   96.40020325,   91.58019308,\n",
       "         81.94017276,   72.30015243,   57.84012195,   38.5600813 ,\n",
       "         33.74007114,   14.46003049,   14.46003049,   14.46003049,\n",
       "          0.        ,    0.        ,    0.        ,    0.        ,\n",
       "          0.        ,    0.        ,    0.        ,    0.        ,\n",
       "          0.        ])"
      ]
     },
     "execution_count": 123,
     "metadata": {},
     "output_type": "execute_result"
    }
   ],
   "source": [
    "net_savings_per_acc=net_savings/len(y_test_all)\n",
    "net_savings_per_acc"
   ]
  },
  {
   "cell_type": "code",
   "execution_count": 124,
   "metadata": {},
   "outputs": [
    {
     "data": {
      "text/plain": [
       "Text(0.5, 1.0, 'Cost Of Counselings VS Savings ')"
      ]
     },
     "execution_count": 124,
     "metadata": {},
     "output_type": "execute_result"
    },
    {
     "data": {
      "image/png": "[encoded data removed]",
      "text/plain": [
       "<Figure size 600x400 with 1 Axes>"
      ]
     },
     "metadata": {
      "needs_background": "light"
     },
     "output_type": "display_data"
    }
   ],
   "source": [
    "plt.plot(cost_of_couns_per_acc,net_savings_per_acc)\n",
    "plt.xlabel('Cost of counselings per account')\n",
    "plt.ylabel('Net savings per account')\n",
    "plt.title('Cost Of Counselings VS Savings ')"
   ]
  },
  {
   "cell_type": "code",
   "execution_count": 125,
   "metadata": {},
   "outputs": [
    {
     "data": {
      "text/plain": [
       "array([0.  , 0.01, 0.02, 0.03, 0.04, 0.05, 0.06, 0.07, 0.08, 0.09, 0.1 ,\n",
       "       0.11, 0.12, 0.13, 0.14, 0.15, 0.16, 0.17, 0.18, 0.19, 0.2 , 0.21,\n",
       "       0.22, 0.23, 0.24, 0.25, 0.26, 0.27, 0.28, 0.29, 0.3 , 0.31, 0.32,\n",
       "       0.33, 0.34, 0.35, 0.36, 0.37, 0.38, 0.39, 0.4 , 0.41, 0.42, 0.43,\n",
       "       0.44, 0.45, 0.46, 0.47, 0.48, 0.49, 0.5 , 0.51, 0.52, 0.53, 0.54,\n",
       "       0.55, 0.56, 0.57, 0.58, 0.59, 0.6 , 0.61, 0.62, 0.63, 0.64, 0.65,\n",
       "       0.66, 0.67, 0.68, 0.69, 0.7 , 0.71, 0.72, 0.73, 0.74, 0.75, 0.76,\n",
       "       0.77, 0.78, 0.79, 0.8 , 0.81, 0.82, 0.83, 0.84, 0.85, 0.86, 0.87,\n",
       "       0.88, 0.89, 0.9 , 0.91, 0.92, 0.93, 0.94, 0.95, 0.96, 0.97, 0.98,\n",
       "       0.99, 1.  ])"
      ]
     },
     "execution_count": 125,
     "metadata": {},
     "output_type": "execute_result"
    }
   ],
   "source": [
    "thresholds\n"
   ]
  },
  {
   "cell_type": "code",
   "execution_count": 126,
   "metadata": {},
   "outputs": [
    {
     "data": {
      "text/plain": [
       "array([5.938e+03, 5.938e+03, 5.938e+03, 5.938e+03, 5.938e+03, 5.918e+03,\n",
       "       5.794e+03, 5.615e+03, 5.319e+03, 4.961e+03, 4.640e+03, 4.366e+03,\n",
       "       4.126e+03, 3.873e+03, 3.636e+03, 3.363e+03, 3.083e+03, 2.808e+03,\n",
       "       2.569e+03, 2.346e+03, 2.145e+03, 1.962e+03, 1.814e+03, 1.677e+03,\n",
       "       1.559e+03, 1.477e+03, 1.395e+03, 1.317e+03, 1.258e+03, 1.188e+03,\n",
       "       1.127e+03, 1.068e+03, 1.011e+03, 9.550e+02, 9.270e+02, 8.920e+02,\n",
       "       8.640e+02, 8.330e+02, 8.090e+02, 7.770e+02, 7.480e+02, 7.030e+02,\n",
       "       6.870e+02, 6.590e+02, 6.300e+02, 6.140e+02, 6.030e+02, 5.860e+02,\n",
       "       5.750e+02, 5.640e+02, 5.460e+02, 5.370e+02, 5.270e+02, 5.160e+02,\n",
       "       5.070e+02, 5.030e+02, 4.880e+02, 4.780e+02, 4.740e+02, 4.650e+02,\n",
       "       4.520e+02, 4.370e+02, 4.260e+02, 4.130e+02, 3.990e+02, 3.830e+02,\n",
       "       3.590e+02, 3.380e+02, 2.940e+02, 2.590e+02, 2.230e+02, 1.880e+02,\n",
       "       1.570e+02, 1.290e+02, 1.090e+02, 8.700e+01, 6.800e+01, 4.900e+01,\n",
       "       3.800e+01, 3.200e+01, 2.500e+01, 2.000e+01, 2.000e+01, 1.900e+01,\n",
       "       1.700e+01, 1.500e+01, 1.200e+01, 8.000e+00, 7.000e+00, 3.000e+00,\n",
       "       3.000e+00, 3.000e+00, 0.000e+00, 0.000e+00, 0.000e+00, 0.000e+00,\n",
       "       0.000e+00, 0.000e+00, 0.000e+00, 0.000e+00, 0.000e+00])"
      ]
     },
     "execution_count": 126,
     "metadata": {},
     "output_type": "execute_result"
    }
   ],
   "source": [
    "n_pos_pred"
   ]
  },
  {
   "cell_type": "code",
   "execution_count": 127,
   "metadata": {},
   "outputs": [
    {
     "data": {
      "text/plain": [
       "133564.0"
      ]
     },
     "execution_count": 127,
     "metadata": {},
     "output_type": "execute_result"
    }
   ],
   "source": [
    "sum(n_pos_pred)"
   ]
  },
  {
   "cell_type": "code",
   "execution_count": 128,
   "metadata": {},
   "outputs": [
    {
     "data": {
      "text/plain": [
       "array([0.00000000e+00, 1.68406871e-06, 3.36813742e-06, 5.05220613e-06,\n",
       "       6.73627484e-06, 8.42034355e-06, 1.01044123e-05, 1.17884810e-05,\n",
       "       1.34725497e-05, 1.51566184e-05, 1.68406871e-05, 1.85247558e-05,\n",
       "       2.02088245e-05, 2.18928932e-05, 2.35769619e-05, 2.52610307e-05,\n",
       "       2.69450994e-05, 2.86291681e-05, 3.03132368e-05, 3.19973055e-05,\n",
       "       3.36813742e-05, 3.53654429e-05, 3.70495116e-05, 3.87335803e-05,\n",
       "       4.04176490e-05, 4.21017178e-05, 4.37857865e-05, 4.54698552e-05,\n",
       "       4.71539239e-05, 4.88379926e-05, 5.05220613e-05, 5.22061300e-05,\n",
       "       5.38901987e-05, 5.55742674e-05, 5.72583361e-05, 5.89424049e-05,\n",
       "       6.06264736e-05, 6.23105423e-05, 6.39946110e-05, 6.56786797e-05,\n",
       "       6.73627484e-05, 6.90468171e-05, 7.07308858e-05, 7.24149545e-05,\n",
       "       7.40990232e-05, 7.57830920e-05, 7.74671607e-05, 7.91512294e-05,\n",
       "       8.08352981e-05, 8.25193668e-05, 8.42034355e-05, 8.58875042e-05,\n",
       "       8.75715729e-05, 8.92556416e-05, 9.09397103e-05, 9.26237791e-05,\n",
       "       9.43078478e-05, 9.59919165e-05, 9.76759852e-05, 9.93600539e-05,\n",
       "       1.01044123e-04, 1.02728191e-04, 1.04412260e-04, 1.06096329e-04,\n",
       "       1.07780397e-04, 1.09464466e-04, 1.11148535e-04, 1.12832604e-04,\n",
       "       1.14516672e-04, 1.16200741e-04, 1.17884810e-04, 1.19568878e-04,\n",
       "       1.21252947e-04, 1.22937016e-04, 1.24621085e-04, 1.26305153e-04,\n",
       "       1.27989222e-04, 1.29673291e-04, 1.31357359e-04, 1.33041428e-04,\n",
       "       1.34725497e-04, 1.36409566e-04, 1.38093634e-04, 1.39777703e-04,\n",
       "       1.41461772e-04, 1.43145840e-04, 1.44829909e-04, 1.46513978e-04,\n",
       "       1.48198046e-04, 1.49882115e-04, 1.51566184e-04, 1.53250253e-04,\n",
       "       1.54934321e-04, 1.56618390e-04, 1.58302459e-04, 1.59986527e-04,\n",
       "       1.61670596e-04, 1.63354665e-04, 1.65038734e-04, 1.66722802e-04,\n",
       "       1.68406871e-04])"
      ]
     },
     "execution_count": 128,
     "metadata": {},
     "output_type": "execute_result"
    }
   ],
   "source": [
    "threshold_per_pred=thresholds/len(y_test_all)\n",
    "threshold_per_pred\n"
   ]
  },
  {
   "cell_type": "code",
   "execution_count": 129,
   "metadata": {},
   "outputs": [
    {
     "data": {
      "text/plain": [
       "array([1.00000000e+00, 1.00000000e+00, 1.00000000e+00, 1.00000000e+00,\n",
       "       1.00000000e+00, 9.96631863e-01, 9.75749411e-01, 9.45604581e-01,\n",
       "       8.95756147e-01, 8.35466487e-01, 7.81407881e-01, 7.35264399e-01,\n",
       "       6.94846750e-01, 6.52239811e-01, 6.12327383e-01, 5.66352307e-01,\n",
       "       5.19198383e-01, 4.72886494e-01, 4.32637252e-01, 3.95082519e-01,\n",
       "       3.61232738e-01, 3.30414281e-01, 3.05490064e-01, 2.82418323e-01,\n",
       "       2.62546312e-01, 2.48736948e-01, 2.34927585e-01, 2.21791849e-01,\n",
       "       2.11855844e-01, 2.00067363e-01, 1.89794544e-01, 1.79858538e-01,\n",
       "       1.70259347e-01, 1.60828562e-01, 1.56113169e-01, 1.50218929e-01,\n",
       "       1.45503537e-01, 1.40282924e-01, 1.36241159e-01, 1.30852139e-01,\n",
       "       1.25968340e-01, 1.18390030e-01, 1.15695520e-01, 1.10980128e-01,\n",
       "       1.06096329e-01, 1.03401819e-01, 1.01549343e-01, 9.86864264e-02,\n",
       "       9.68339508e-02, 9.49814752e-02, 9.19501516e-02, 9.04344897e-02,\n",
       "       8.87504210e-02, 8.68979454e-02, 8.53822836e-02, 8.47086561e-02,\n",
       "       8.21825530e-02, 8.04984843e-02, 7.98248569e-02, 7.83091950e-02,\n",
       "       7.61199057e-02, 7.35938026e-02, 7.17413270e-02, 6.95520377e-02,\n",
       "       6.71943415e-02, 6.44998316e-02, 6.04580667e-02, 5.69215224e-02,\n",
       "       4.95116201e-02, 4.36173796e-02, 3.75547322e-02, 3.16604917e-02,\n",
       "       2.64398787e-02, 2.17244864e-02, 1.83563489e-02, 1.46513978e-02,\n",
       "       1.14516672e-02, 8.25193668e-03, 6.39946110e-03, 5.38901987e-03,\n",
       "       4.21017178e-03, 3.36813742e-03, 3.36813742e-03, 3.19973055e-03,\n",
       "       2.86291681e-03, 2.52610307e-03, 2.02088245e-03, 1.34725497e-03,\n",
       "       1.17884810e-03, 5.05220613e-04, 5.05220613e-04, 5.05220613e-04,\n",
       "       0.00000000e+00, 0.00000000e+00, 0.00000000e+00, 0.00000000e+00,\n",
       "       0.00000000e+00, 0.00000000e+00, 0.00000000e+00, 0.00000000e+00,\n",
       "       0.00000000e+00])"
      ]
     },
     "execution_count": 129,
     "metadata": {},
     "output_type": "execute_result"
    }
   ],
   "source": [
    "n_pos_pred_per_pred=n_pos_pred/len(y_test_all)\n",
    "n_pos_pred_per_pred"
   ]
  },
  {
   "cell_type": "code",
   "execution_count": 130,
   "metadata": {},
   "outputs": [
    {
     "data": {
      "text/plain": [
       "Text(0.5, 20.72222222222222, 'Threshold')"
      ]
     },
     "execution_count": 130,
     "metadata": {},
     "output_type": "execute_result"
    },
    {
     "data": {
      "image/png": "[encoded data removed]",
      "text/plain": [
       "<Figure size 600x400 with 1 Axes>"
      ]
     },
     "metadata": {
      "needs_background": "light"
     },
     "output_type": "display_data"
    }
   ],
   "source": [
    "plt.plot(threshold_per_pred,n_pos_pred_per_pred)\n",
    "plt.tight_layout()\n",
    "plt.ylabel('Flag rate')\n",
    "plt.xlabel('Threshold')"
   ]
  },
  {
   "cell_type": "code",
   "execution_count": 131,
   "metadata": {},
   "outputs": [
    {
     "data": {
      "text/plain": [
       "array([1285., 1285., 1285., 1285., 1285., 1284., 1283., 1276., 1261.,\n",
       "       1231., 1212., 1177., 1155., 1115., 1089., 1053., 1016.,  979.,\n",
       "        940.,  908.,  873.,  833.,  802.,  773.,  751.,  729.,  702.,\n",
       "        677.,  662.,  637.,  619.,  596.,  583.,  558.,  549.,  536.,\n",
       "        521.,  504.,  492.,  479.,  465.,  448.,  440.,  425.,  409.,\n",
       "        404.,  399.,  392.,  387.,  382.,  373.,  367.,  362.,  358.,\n",
       "        355.,  352.,  344.,  343.,  341.,  335.,  327.,  313.,  306.,\n",
       "        299.,  290.,  279.,  263.,  251.,  226.,  200.,  173.,  143.,\n",
       "        122.,  100.,   85.,   68.,   56.,   41.,   32.,   28.,   22.,\n",
       "         20.,   20.,   19.,   17.,   15.,   12.,    8.,    7.,    3.,\n",
       "          3.,    3.,    0.,    0.,    0.,    0.,    0.,    0.,    0.,\n",
       "          0.,    0.])"
      ]
     },
     "execution_count": 131,
     "metadata": {},
     "output_type": "execute_result"
    }
   ],
   "source": [
    "n_true_pos"
   ]
  },
  {
   "cell_type": "code",
   "execution_count": 132,
   "metadata": {},
   "outputs": [
    {
     "data": {
      "text/plain": [
       "array([0.21640283, 0.21640283, 0.21640283, 0.21640283, 0.21640283,\n",
       "       0.21623442, 0.21606602, 0.21488717, 0.21236106, 0.20730886,\n",
       "       0.20410913, 0.19821489, 0.19450994, 0.18777366, 0.18339508,\n",
       "       0.17733244, 0.17110138, 0.16487033, 0.15830246, 0.15291344,\n",
       "       0.1470192 , 0.14028292, 0.13506231, 0.13017851, 0.12647356,\n",
       "       0.12276861, 0.11822162, 0.11401145, 0.11148535, 0.10727518,\n",
       "       0.10424385, 0.1003705 , 0.09818121, 0.09397103, 0.09245537,\n",
       "       0.09026608, 0.08773998, 0.08487706, 0.08285618, 0.08066689,\n",
       "       0.0783092 , 0.07544628, 0.07409902, 0.07157292, 0.06887841,\n",
       "       0.06803638, 0.06719434, 0.06601549, 0.06517346, 0.06433142,\n",
       "       0.06281576, 0.06180532, 0.06096329, 0.06028966, 0.05978444,\n",
       "       0.05927922, 0.05793196, 0.05776356, 0.05742674, 0.0564163 ,\n",
       "       0.05506905, 0.05271135, 0.0515325 , 0.05035365, 0.04883799,\n",
       "       0.04698552, 0.04429101, 0.04227012, 0.03805995, 0.03368137,\n",
       "       0.02913439, 0.02408218, 0.02054564, 0.01684069, 0.01431458,\n",
       "       0.01145167, 0.00943078, 0.00690468, 0.00538902, 0.00471539,\n",
       "       0.00370495, 0.00336814, 0.00336814, 0.00319973, 0.00286292,\n",
       "       0.0025261 , 0.00202088, 0.00134725, 0.00117885, 0.00050522,\n",
       "       0.00050522, 0.00050522, 0.        , 0.        , 0.        ,\n",
       "       0.        , 0.        , 0.        , 0.        , 0.        ,\n",
       "       0.        ])"
      ]
     },
     "execution_count": 132,
     "metadata": {},
     "output_type": "execute_result"
    }
   ],
   "source": [
    "n_true_pos/len(y_test_all)"
   ]
  },
  {
   "cell_type": "code",
   "execution_count": 133,
   "metadata": {},
   "outputs": [
    {
     "name": "stderr",
     "output_type": "stream",
     "text": [
      "C:\\Users\\Khush\\anaconda3\\lib\\site-packages\\ipykernel_launcher.py:1: RuntimeWarning: invalid value encountered in true_divide\n",
      "  \"\"\"Entry point for launching an IPython kernel.\n"
     ]
    },
    {
     "data": {
      "text/plain": [
       "array([0.21640283, 0.21640283, 0.21640283, 0.21640283, 0.21640283,\n",
       "       0.21696519, 0.22143597, 0.22724844, 0.23707464, 0.24813546,\n",
       "       0.2612069 , 0.26958314, 0.27993214, 0.28789052, 0.29950495,\n",
       "       0.31311329, 0.32954914, 0.34864672, 0.36590113, 0.38704177,\n",
       "       0.40699301, 0.42456677, 0.44211687, 0.46094216, 0.48171905,\n",
       "       0.49356804, 0.50322581, 0.51404708, 0.52623211, 0.53619529,\n",
       "       0.54924579, 0.55805243, 0.57665678, 0.58429319, 0.59223301,\n",
       "       0.60089686, 0.60300926, 0.60504202, 0.60815822, 0.61647362,\n",
       "       0.62165775, 0.63726885, 0.64046579, 0.64491654, 0.64920635,\n",
       "       0.65798046, 0.66169154, 0.66894198, 0.67304348, 0.67730496,\n",
       "       0.68315018, 0.68342644, 0.68690702, 0.69379845, 0.70019724,\n",
       "       0.69980119, 0.70491803, 0.71757322, 0.71940928, 0.72043011,\n",
       "       0.72345133, 0.71624714, 0.71830986, 0.72397094, 0.72681704,\n",
       "       0.72845953, 0.73259053, 0.74260355, 0.76870748, 0.77220077,\n",
       "       0.77578475, 0.7606383 , 0.77707006, 0.7751938 , 0.77981651,\n",
       "       0.7816092 , 0.82352941, 0.83673469, 0.84210526, 0.875     ,\n",
       "       0.88      , 1.        , 1.        , 1.        , 1.        ,\n",
       "       1.        , 1.        , 1.        , 1.        , 1.        ,\n",
       "       1.        , 1.        ,        nan,        nan,        nan,\n",
       "              nan,        nan,        nan,        nan,        nan,\n",
       "              nan])"
      ]
     },
     "execution_count": 133,
     "metadata": {},
     "output_type": "execute_result"
    }
   ],
   "source": [
    "np.divide(n_true_pos,n_pos_pred)"
   ]
  },
  {
   "cell_type": "code",
   "execution_count": 134,
   "metadata": {},
   "outputs": [
    {
     "name": "stderr",
     "output_type": "stream",
     "text": [
      "C:\\Users\\Khush\\anaconda3\\lib\\site-packages\\ipykernel_launcher.py:1: RuntimeWarning: invalid value encountered in true_divide\n",
      "  \"\"\"Entry point for launching an IPython kernel.\n"
     ]
    },
    {
     "data": {
      "text/plain": [
       "Text(0.5, 1.0, 'Precision VS Recall')"
      ]
     },
     "execution_count": 134,
     "metadata": {},
     "output_type": "execute_result"
    },
    {
     "data": {
      "image/png": "[encoded data removed]",
      "text/plain": [
       "<Figure size 600x400 with 1 Axes>"
      ]
     },
     "metadata": {
      "needs_background": "light"
     },
     "output_type": "display_data"
    }
   ],
   "source": [
    "plt.plot(n_true_pos/len(y_test_all), np.divide(n_true_pos,n_pos_pred))\n",
    "plt.xlabel('Recall')\n",
    "plt.ylabel('Precision')\n",
    "plt.title('Precision VS Recall')"
   ]
  },
  {
   "cell_type": "code",
   "execution_count": 135,
   "metadata": {},
   "outputs": [
    {
     "data": {
      "text/plain": [
       "array([0.  , 0.01, 0.02, 0.03, 0.04, 0.05, 0.06, 0.07, 0.08, 0.09, 0.1 ,\n",
       "       0.11, 0.12, 0.13, 0.14, 0.15, 0.16, 0.17, 0.18, 0.19, 0.2 , 0.21,\n",
       "       0.22, 0.23, 0.24, 0.25, 0.26, 0.27, 0.28, 0.29, 0.3 , 0.31, 0.32,\n",
       "       0.33, 0.34, 0.35, 0.36, 0.37, 0.38, 0.39, 0.4 , 0.41, 0.42, 0.43,\n",
       "       0.44, 0.45, 0.46, 0.47, 0.48, 0.49, 0.5 , 0.51, 0.52, 0.53, 0.54,\n",
       "       0.55, 0.56, 0.57, 0.58, 0.59, 0.6 , 0.61, 0.62, 0.63, 0.64, 0.65,\n",
       "       0.66, 0.67, 0.68, 0.69, 0.7 , 0.71, 0.72, 0.73, 0.74, 0.75, 0.76,\n",
       "       0.77, 0.78, 0.79, 0.8 , 0.81, 0.82, 0.83, 0.84, 0.85, 0.86, 0.87,\n",
       "       0.88, 0.89, 0.9 , 0.91, 0.92, 0.93, 0.94, 0.95, 0.96, 0.97, 0.98,\n",
       "       0.99, 1.  ])"
      ]
     },
     "execution_count": 135,
     "metadata": {},
     "output_type": "execute_result"
    }
   ],
   "source": [
    "\n",
    "thresholds"
   ]
  },
  {
   "cell_type": "code",
   "execution_count": 136,
   "metadata": {},
   "outputs": [
    {
     "name": "stderr",
     "output_type": "stream",
     "text": [
      "C:\\Users\\Khush\\anaconda3\\lib\\site-packages\\ipykernel_launcher.py:1: RuntimeWarning: invalid value encountered in true_divide\n",
      "  \"\"\"Entry point for launching an IPython kernel.\n"
     ]
    },
    {
     "data": {
      "text/plain": [
       "<matplotlib.legend.Legend at 0x24f50371248>"
      ]
     },
     "execution_count": 136,
     "metadata": {},
     "output_type": "execute_result"
    },
    {
     "data": {
      "image/png": "[encoded data removed]",
      "text/plain": [
       "<Figure size 600x400 with 1 Axes>"
      ]
     },
     "metadata": {
      "needs_background": "light"
     },
     "output_type": "display_data"
    }
   ],
   "source": [
    "plt.plot(thresholds, np.divide(n_true_pos, n_pos_pred), label='Precision')\n",
    "plt.plot(thresholds, n_true_pos/sum(y_test_all), label='Recall')\n",
    "plt.xlabel('Threshold')\n",
    "plt.title('Separate Curves Of Precision And Recall On Y-Axis : ')\n",
    "plt.legend()"
   ]
  },
  {
   "cell_type": "code",
   "execution_count": null,
   "metadata": {},
   "outputs": [],
   "source": []
  }
 ],
 "metadata": {
  "kernelspec": {
   "display_name": "Python 3",
   "language": "python",
   "name": "python3"
  },
  "language_info": {
   "codemirror_mode": {
    "name": "ipython",
    "version": 3
   },
   "file_extension": ".py",
   "mimetype": "text/x-python",
   "name": "python",
   "nbconvert_exporter": "python",
   "pygments_lexer": "ipython3",
   "version": "3.7.6"
  }
 },
 "nbformat": 4,
 "nbformat_minor": 4
}
